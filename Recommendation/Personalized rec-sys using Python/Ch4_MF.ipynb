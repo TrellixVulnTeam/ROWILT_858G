{
 "cells": [
  {
   "cell_type": "code",
   "execution_count": 1,
   "metadata": {},
   "outputs": [],
   "source": [
    "# memory-based recsys : CF\n",
    "# model-based recsys : MF, DL-based"
   ]
  },
  {
   "cell_type": "code",
   "execution_count": 2,
   "metadata": {},
   "outputs": [],
   "source": [
    "from sklearn.metrics.pairwise import cosine_similarity\n",
    "from sklearn.model_selection import train_test_split\n",
    "import pandas as pd\n",
    "import numpy as np"
   ]
  },
  {
   "cell_type": "code",
   "execution_count": 3,
   "metadata": {},
   "outputs": [],
   "source": [
    "# data directory absolute path\n",
    "data_dir = '../../../../data/'\n",
    "\n",
    "# Read data\n",
    "u_cols = ['user_id', 'age', 'sex', 'occupation', 'zip_code']\n",
    "users = pd.read_csv(data_dir+'u.user', sep='|', names=u_cols, encoding='latin-1')\n",
    "\n",
    "i_cols = ['movie_id', 'title', 'release date', 'video release date', 'IMDB URL', \n",
    "          'unknown', 'Action', 'Adventure', 'Animation', 'Childeren\\'s', 'Comedy', 'Crime', 'Documentary', 'Drama',\n",
    "          'Fantasy', 'Film-Noir', 'Horror', 'Musical', 'Mystery', 'Romance', 'Sci-Fi', 'Thriller', 'War', 'Western'\n",
    "         ]\n",
    "movies = pd.read_csv(data_dir+'u.item', sep='|', names=i_cols, encoding='latin-1')\n",
    "\n",
    "r_cols = ['user_id', 'movie_id', 'rating', 'timestamp']\n",
    "ratings = pd.read_csv(data_dir+'u.data', sep='\\t', names=r_cols, encoding='latin-1')\n"
   ]
  },
  {
   "cell_type": "code",
   "execution_count": 13,
   "metadata": {},
   "outputs": [],
   "source": [
    "# MF Class\n",
    "class MF():\n",
    "    def __init__(self, ratings, K, alpha, beta, iterations, verbose=True):\n",
    "        self.R = np.array(ratings)\n",
    "        self.num_users, self.num_items = np.shape(self.R)\n",
    "        self.K = K # number of latent factor\n",
    "        self.alpha = alpha # learning rate\n",
    "        self.beta = beta # regularization factor\n",
    "        self.iterations = iterations # SGD iterations\n",
    "        self.verbose = verbose # print SGD training process or not\n",
    "    \n",
    "    def rmse(self):\n",
    "        xs, ys = self.R.nonzero() # non-zero index \n",
    "        self.predictions = []\n",
    "        self.errors = []\n",
    "        for x, y in zip(xs, ys):\n",
    "            prediction = self.get_prediction(x,y)\n",
    "            self.predictions.append(prediction)\n",
    "            self.errors.append(self.R[x,y] - prediction)\n",
    "        self.predictions = np.array(self.predictions)\n",
    "        self.errors = np.array(self.errors)\n",
    "        \n",
    "        return np.sqrt(np.mean(self.errors**2))\n",
    "    \n",
    "    def train(self):\n",
    "        # Initialize user, item feature matrix\n",
    "        self.P = np.random.normal(scale=1./self.K, size=(self.num_users, self.K))\n",
    "        self.Q = np.random.normal(scale=1./self.K, size=(self.num_items, self.K))\n",
    "        \n",
    "        # Initialize bias terms\n",
    "        self.bias_u = np.zeros(self.num_users)\n",
    "        self.bias_i = np.zeros(self.num_items)\n",
    "        self.bias = np.mean(self.R[self.R.nonzero()]) # total mean\n",
    "        \n",
    "        # List of training samples\n",
    "        rows, columns = self.R.nonzero()\n",
    "        self.samples = [(i,j, self.R[i,j]) for i,j in zip(rows, columns)]\n",
    "        \n",
    "        # SGD for given iterations\n",
    "        training_processes = []\n",
    "        for i in range(self.iterations):\n",
    "            np.random.shuffle(self.samples)\n",
    "            self.SGD()\n",
    "            rmse = self.rmse()\n",
    "            training_processes.append((i+1, rmse))\n",
    "            if self.verbose:\n",
    "                if (i+1) % 10 == 0:\n",
    "                    print(\"Iteration : %d ; Train RMSE = %.4f\" % (i+1, rmse))\n",
    "        \n",
    "        return training_processes\n",
    "    \n",
    "    def get_prediction(self, i, j):\n",
    "        prediction = self.bias + self.bias_u[i] + self.bias_i[j] + self.P[i,:].dot(self.Q[j,:].T)\n",
    "        \n",
    "        return prediction\n",
    "    \n",
    "    def SGD(self):\n",
    "        for i,j,r in self.samples:\n",
    "            prediction = self.get_prediction(i, j)\n",
    "            e = (r - prediction)\n",
    "            \n",
    "            self.bias_u[i] += self.alpha * (e - self.beta * self.bias_u[i])\n",
    "            self.bias_i[j] += self.alpha * (e - self.beta * self.bias_i[j])\n",
    "            \n",
    "            self.P[i,:] += self.alpha * (e * self.Q[j,:] - self.beta * self.P[i,:])\n",
    "            self.Q[j,:] += self.alpha * (e * self.P[i,:] - self.beta * self.Q[j,:])"
   ]
  },
  {
   "cell_type": "code",
   "execution_count": null,
   "metadata": {},
   "outputs": [
    {
     "name": "stdout",
     "output_type": "stream",
     "text": [
      "Iteration : 10 ; Train RMSE = 0.9585\n",
      "Iteration : 20 ; Train RMSE = 0.9374\n",
      "Iteration : 30 ; Train RMSE = 0.9281\n",
      "Iteration : 40 ; Train RMSE = 0.9226\n",
      "Iteration : 50 ; Train RMSE = 0.9185\n",
      "Iteration : 60 ; Train RMSE = 0.9147\n",
      "Iteration : 70 ; Train RMSE = 0.9103\n"
     ]
    }
   ],
   "source": [
    "R_temp = ratings.pivot(index='user_id', columns='movie_id', values='rating').fillna(0)\n",
    "mf = MF(R_temp, K=30, alpha=0.001, beta=0.02, iterations=100, verbose=True)\n",
    "train_process = mf.train()"
   ]
  },
  {
   "cell_type": "code",
   "execution_count": null,
   "metadata": {},
   "outputs": [],
   "source": []
  }
 ],
 "metadata": {
  "kernelspec": {
   "display_name": "Python 3",
   "language": "python",
   "name": "python3"
  },
  "language_info": {
   "codemirror_mode": {
    "name": "ipython",
    "version": 3
   },
   "file_extension": ".py",
   "mimetype": "text/x-python",
   "name": "python",
   "nbconvert_exporter": "python",
   "pygments_lexer": "ipython3",
   "version": "3.7.4"
  }
 },
 "nbformat": 4,
 "nbformat_minor": 2
}
