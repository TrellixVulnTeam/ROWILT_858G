{
 "cells": [
  {
   "cell_type": "markdown",
   "metadata": {},
   "source": [
    "# Expedia Hotel Recommendation"
   ]
  },
  {
   "cell_type": "markdown",
   "metadata": {},
   "source": [
    "Data Description\n",
    "\n",
    "Expedia has provided you logs of customer behavior. These include what customers searched for, how they interacted with search results (click/book), whether or not the search result was a travel package. The data in this competition is a random selection from Expedia and is not representative of the overall statistics.\n",
    "\n",
    "Expedia is interested in predicting which hotel group a user is going to book. Expedia has in-house algorithms to form hotel clusters, where similar hotels for a search (based on historical price, customer star ratings, geographical locations relative to city center, etc) are grouped together. These hotel clusters serve as good identifiers to which types of hotels people are going to book, while avoiding outliers such as new hotels that don't have historical data.\n",
    "\n",
    "Your goal of this competition is to predict the booking outcome (hotel cluster) for a user event, based on their search and other attributes associated with that user event.\n",
    "\n",
    "The train and test datasets are split based on time: training data from 2013 and 2014, while test data are from 2015. The public/private leaderboard data are split base on time as well. Training data includes all the users in the logs, including both click events and booking events. Test data only includes booking events. \n",
    "\n",
    "destinations.csv data consists of features extracted from hotel reviews text. \n",
    "\n",
    "Note that some srch_destination_id's in the train/test files don't exist in the destinations.csv file. This is because some hotels are new and don't have enough features in the latent space. Your algorithm should be able to handle this missing information."
   ]
  },
  {
   "cell_type": "markdown",
   "metadata": {},
   "source": [
    "# 1. Data preprocessing & EDA"
   ]
  },
  {
   "cell_type": "code",
   "execution_count": 1,
   "metadata": {},
   "outputs": [],
   "source": [
    "import numpy as np\n",
    "import pandas as pd\n",
    "import matplotlib.pyplot as plt\n",
    "import random\n",
    "import seaborn as sns\n",
    "\n",
    "plt.style.use('seaborn')\n",
    "sns.set(font_scale=2.5)\n",
    "\n",
    "import warnings\n",
    "warnings.filterwarnings('ignore')\n",
    "\n",
    "%matplotlib inline\n",
    "\n",
    "import missingno as msno\n",
    "import ml_metrics as metrics"
   ]
  },
  {
   "cell_type": "markdown",
   "metadata": {},
   "source": [
    "### 1-0. Load Dataset"
   ]
  },
  {
   "cell_type": "code",
   "execution_count": 2,
   "metadata": {},
   "outputs": [],
   "source": [
    "destinations = pd.read_csv(\"destinations.csv\")\n",
    "test = pd.read_csv(\"test.csv\")\n",
    "train = pd.read_csv(\"train.csv\")"
   ]
  },
  {
   "cell_type": "markdown",
   "metadata": {},
   "source": [
    "### 1-1. Check Dataset"
   ]
  },
  {
   "cell_type": "code",
   "execution_count": 3,
   "metadata": {},
   "outputs": [],
   "source": [
    "# print('train.shape :', train.shape)\n",
    "# print('test.shape :', test.shape)\n",
    "# print('destinations.shape', destinations.shape)\n",
    "\n",
    "# # check destinationmissing values\n",
    "# print(destinations.tail())\n",
    "# print(train.tail())\n",
    "# print(train.info())\n",
    "# print(test.tail())\n",
    "# print(test.info())\n",
    "# train.describe()\n",
    "# test.describe()\n",
    "# print(len(train.columns), train.columns)\n",
    "# print(len(test.columns), test.columns)"
   ]
  },
  {
   "cell_type": "markdown",
   "metadata": {},
   "source": [
    "- destination.csv\n",
    "    - row index와 srch_destination_id가 차이나는 것으로 보아, missing된 id가 존재하는 것으로 판단 (대략 5% 미만) -> 어떻게 처리할지? : 비율이 적어 삭제해도 무방할 듯\n",
    "- train.csv\n",
    "    - 대부분 integer, float variable\n",
    "    - date time는 년,월,일,시 등으로 format 변경 필요\n",
    "    - user_loaction_country, user_location_city value의 정확한 의미 알 수 없어 사용이 어려워 보임 (keep)\n",
    "    - orig_destination_distance Nan 어떻게 처리할지? --> data description에 의하면 Nan value는 계산이 불가능한 경우 :\n",
    "        - A null means the distance could not be calculated\n",
    "\n",
    "- train set 너무 많음(3700만 개) --> 이대로 계속 분석 가능한지?(메모리 이슈) : sampling"
   ]
  },
  {
   "cell_type": "code",
   "execution_count": 4,
   "metadata": {
    "scrolled": true
   },
   "outputs": [
    {
     "name": "stdout",
     "output_type": "stream",
     "text": [
      "False\n"
     ]
    }
   ],
   "source": [
    "test_user = set(test.user_id.unique())\n",
    "train_user = set(train.user_id.unique())\n",
    "print(test_user in train_user)"
   ]
  },
  {
   "cell_type": "markdown",
   "metadata": {},
   "source": [
    "- Train set에 포함되지 않은 유저가 Test set에 존재"
   ]
  },
  {
   "cell_type": "markdown",
   "metadata": {},
   "source": [
    "### 1-2. Check missing values in data "
   ]
  },
  {
   "cell_type": "code",
   "execution_count": 5,
   "metadata": {},
   "outputs": [],
   "source": [
    "def check_nan(df):\n",
    "    for col in df.columns:\n",
    "        msg = '{:>10}\\t\\t\\t Percent of NaN value: {:.2f}%'.format(col, 100 * (df[col].isnull().sum() / df[col].shape[0]))\n",
    "        print(msg)"
   ]
  },
  {
   "cell_type": "code",
   "execution_count": 6,
   "metadata": {},
   "outputs": [],
   "source": [
    "# print(check_nan(train))\n",
    "# print(check_nan(test))"
   ]
  },
  {
   "cell_type": "markdown",
   "metadata": {},
   "source": [
    "- Train.csv column\n",
    "    - ID 없음\n",
    "- test.csv column\n",
    "    - missing value 없음\n",
    "    - is_booking, cnt, hotel_cluster(label) column 없음"
   ]
  },
  {
   "cell_type": "code",
   "execution_count": 7,
   "metadata": {
    "scrolled": true
   },
   "outputs": [],
   "source": [
    "def check_nan_col(df, col_list):\n",
    "    for cl in col_list:\n",
    "        Nan_idx = list(df.loc[df[cl].isnull()][cl].index)\n",
    "        print('Nan of', cl, ': ', len(Nan_idx))"
   ]
  },
  {
   "cell_type": "code",
   "execution_count": 8,
   "metadata": {},
   "outputs": [
    {
     "name": "stdout",
     "output_type": "stream",
     "text": [
      "Nan of srch_ci :  47083\n",
      "Nan of srch_co :  47084\n",
      "None\n"
     ]
    }
   ],
   "source": [
    "# train에만 결측치 있음\n",
    "print(check_nan_col(train, ['srch_ci', 'srch_co']))"
   ]
  },
  {
   "cell_type": "markdown",
   "metadata": {},
   "source": [
    "- Checkin data와 Checkout data의 누락이 대부분 겹치치만, 각각 누락된 것도 있음\n",
    "- data description에 의하면 알 수 없는 컬럼이며, 전체 데이터 비율에 비해 매우 작은 비율을 차지하므로 삭제"
   ]
  },
  {
   "cell_type": "code",
   "execution_count": 9,
   "metadata": {
    "scrolled": true
   },
   "outputs": [],
   "source": [
    "# delete srch_ci, srch_co nan row \n",
    "def delete_nan_col(df, col_list):\n",
    "    df.dropna(subset=col_list, axis=0, inplace=True)"
   ]
  },
  {
   "cell_type": "code",
   "execution_count": 10,
   "metadata": {},
   "outputs": [
    {
     "name": "stdout",
     "output_type": "stream",
     "text": [
      "Nan of srch_ci :  0\n",
      "Nan of srch_co :  0\n",
      "None\n"
     ]
    }
   ],
   "source": [
    "delete_nan_col(train, ['srch_ci', 'srch_co'])\n",
    "print(check_nan_col(train, ['srch_ci', 'srch_co']))"
   ]
  },
  {
   "cell_type": "markdown",
   "metadata": {},
   "source": [
    "- Train set의 srch_ci, srch_co 결측치 삭제 완료"
   ]
  },
  {
   "cell_type": "code",
   "execution_count": 11,
   "metadata": {},
   "outputs": [],
   "source": [
    "# msno.bar(df=train.iloc[:, :], figsize=(8, 8), color=(0.8, 0.5, 0.2))\n",
    "# msno.matrix(df=train.iloc[:, :], figsize=(8, 8), color=(0.8, 0.5, 0.2))\n",
    "# msno.bar(df=test.iloc[:, :], figsize=(8, 8), color=(0.8, 0.5, 0.2))\n",
    "# msno.matrix(df=test.iloc[:, :], figsize=(8, 8), color=(0.8, 0.5, 0.2))"
   ]
  },
  {
   "cell_type": "markdown",
   "metadata": {},
   "source": [
    "### 1-3. Delete checkin/checkout error rows"
   ]
  },
  {
   "cell_type": "code",
   "execution_count": 12,
   "metadata": {},
   "outputs": [],
   "source": [
    "io_error_idx = train[train['srch_ci'] > train['srch_co']].index\n",
    "train.drop(index=io_error_idx, inplace=True)"
   ]
  },
  {
   "cell_type": "markdown",
   "metadata": {},
   "source": [
    "### 1-4. Check label data distribution"
   ]
  },
  {
   "cell_type": "code",
   "execution_count": 13,
   "metadata": {},
   "outputs": [
    {
     "name": "stdout",
     "output_type": "stream",
     "text": [
      "min: 48275 max: 1042545\n"
     ]
    },
    {
     "data": {
      "image/png": "[encoded data removed]",
      "text/plain": [
       "<Figure size 432x288 with 1 Axes>"
      ]
     },
     "metadata": {
      "needs_background": "light"
     },
     "output_type": "display_data"
    }
   ],
   "source": [
    "train['hotel_cluster'].value_counts()\n",
    "sns.distplot(train['hotel_cluster'])\n",
    "print('min:',min(train['hotel_cluster'].value_counts()), 'max:',max(train['hotel_cluster'].value_counts()))"
   ]
  },
  {
   "cell_type": "markdown",
   "metadata": {},
   "source": [
    "### 1-5. Convert Dates to Year & Month for original Train/Test set"
   ]
  },
  {
   "cell_type": "code",
   "execution_count": 14,
   "metadata": {},
   "outputs": [],
   "source": [
    "train['date_time'] = pd.to_datetime(train['date_time'])\n",
    "train['year'] = train['date_time'].dt.year\n",
    "train['month'] = train['date_time'].dt.month\n",
    "train['day'] = train['date_time'].dt.day\n",
    "# print(train.head())"
   ]
  },
  {
   "cell_type": "code",
   "execution_count": 15,
   "metadata": {},
   "outputs": [],
   "source": [
    "test['date_time'] = pd.to_datetime(test['date_time'])\n",
    "test['year'] = test['date_time'].dt.year\n",
    "test['month'] = test['date_time'].dt.month\n",
    "test['day'] = test['date_time'].dt.day\n",
    "# print(test.head())"
   ]
  },
  {
   "cell_type": "markdown",
   "metadata": {},
   "source": [
    "### 1-6. Remove not booking user data"
   ]
  },
  {
   "cell_type": "code",
   "execution_count": 16,
   "metadata": {
    "scrolled": true
   },
   "outputs": [],
   "source": [
    "# userid_isbooking_group = train.groupby(['user_id'])['is_booking'].value_counts()\n",
    "isbooking_user_group = train.groupby(['is_booking'])['user_id'].value_counts()\n",
    "\n",
    "booking_user_list = train[train.is_booking == 1].user_id.tolist() # user_id idx list that book at least once\n",
    "# print(real_user_list)"
   ]
  },
  {
   "cell_type": "code",
   "execution_count": 17,
   "metadata": {
    "scrolled": true
   },
   "outputs": [],
   "source": [
    "train_booking = train.loc[booking_user_list, :]\n",
    "# train.info()"
   ]
  },
  {
   "cell_type": "markdown",
   "metadata": {},
   "source": [
    "### 1-6. Downsizing dataset (by User random sampling) not for train_booking"
   ]
  },
  {
   "cell_type": "code",
   "execution_count": 18,
   "metadata": {},
   "outputs": [],
   "source": [
    "# train_userid_group = train.groupby(['user_id'])['hotel_cluster'].value_counts()\n",
    "\n",
    "# print('[train] unique user count :',train['user_id'].nunique())\n",
    "# print('[test] unique user count :',test['user_id'].nunique())"
   ]
  },
  {
   "cell_type": "markdown",
   "metadata": {},
   "source": [
    "- 1,198,786 user -> 100,000 user random sampling (Considering computation resource)"
   ]
  },
  {
   "cell_type": "code",
   "execution_count": 19,
   "metadata": {},
   "outputs": [],
   "source": [
    "# sampling_size = 100000"
   ]
  },
  {
   "cell_type": "code",
   "execution_count": 20,
   "metadata": {},
   "outputs": [],
   "source": [
    "# def random_sampling(df, key_col, sampling_size, origin_file, chunk_size):\n",
    "#     unique_set = set(df[key_col].unique())\n",
    "#     sampling_set = random.sample(unique_set, sampling_size)\n",
    "\n",
    "#     df_sampling = pd.DataFrame()\n",
    "#     df_chunking = pd.read_csv(origin_file, chunksize = chunk_size) \n",
    "\n",
    "#     for c in df_chunking:\n",
    "#         df_sampling = df_sampling.append(c.loc[c[key_col].isin(sampling_set)])\n",
    "        \n",
    "#     return df_sampling"
   ]
  },
  {
   "cell_type": "code",
   "execution_count": 21,
   "metadata": {},
   "outputs": [],
   "source": [
    "# train_sampling = random_sampling(df=train, key_col='user_id', sampling_size=sampling_size, origin_file='train.csv', chunk_size=100000)\n",
    "# print('sampling unique user count :',train_sampling['user_id'].nunique())    "
   ]
  },
  {
   "cell_type": "code",
   "execution_count": 22,
   "metadata": {},
   "outputs": [],
   "source": [
    "# train_origin = pd.DataFrame.copy(train)"
   ]
  },
  {
   "cell_type": "code",
   "execution_count": 23,
   "metadata": {},
   "outputs": [],
   "source": [
    "train_booking['date_time'] = pd.to_datetime(train_booking['date_time'])\n",
    "train_booking['year'] = train_booking['date_time'].dt.year\n",
    "train_booking['month'] = train_booking['date_time'].dt.month\n",
    "train_booking['day'] = train_booking['date_time'].dt.day\n",
    "# train_sampling.head()"
   ]
  },
  {
   "cell_type": "code",
   "execution_count": 24,
   "metadata": {},
   "outputs": [],
   "source": [
    "# train_origin['date_time'] = pd.to_datetime(train_origin['date_time'])\n",
    "# train_origin['year'] = train_origin['date_time'].dt.year\n",
    "# train_origin['month'] = train_origin['date_time'].dt.month\n",
    "# train_origin['day'] = train_origin['date_time'].dt.day\n",
    "# # train_origin.head()"
   ]
  },
  {
   "cell_type": "code",
   "execution_count": 25,
   "metadata": {},
   "outputs": [],
   "source": [
    "# train_sampling['date_time'] = pd.to_datetime(train_sampling['date_time'])\n",
    "# train_sampling['year'] = train_sampling['date_time'].dt.year\n",
    "# train_sampling['month'] = train_sampling['date_time'].dt.month\n",
    "# train_sampling['day'] = train_sampling['date_time'].dt.day"
   ]
  },
  {
   "cell_type": "code",
   "execution_count": 26,
   "metadata": {},
   "outputs": [],
   "source": [
    "# delete srch_ci, srch_co nan row in train_sampling\n",
    "# train_sampling.dropna(subset=['srch_ci', 'srch_co'], axis=0, inplace=True)"
   ]
  },
  {
   "cell_type": "code",
   "execution_count": 27,
   "metadata": {},
   "outputs": [],
   "source": [
    "# train_origin.dropna(subset=['srch_ci', 'srch_co'], axis=0, inplace=True)"
   ]
  },
  {
   "cell_type": "code",
   "execution_count": 28,
   "metadata": {},
   "outputs": [],
   "source": [
    "train_booking.dropna(subset=['srch_ci', 'srch_co'], axis=0, inplace=True)"
   ]
  },
  {
   "cell_type": "code",
   "execution_count": 29,
   "metadata": {},
   "outputs": [],
   "source": [
    "# orig_destination_distance \n",
    "# print(train_sampling['orig_destination_distance'].median(skipna=True))\n",
    "# print(train_sampling['orig_destination_distance'].mean(skipna=True))\n",
    "# train_sampling['orig_destination_distance'].describe()\n",
    "# train_sampling.groupby(['user_id'])['orig_destination_distance'].describe()"
   ]
  },
  {
   "cell_type": "code",
   "execution_count": 30,
   "metadata": {},
   "outputs": [],
   "source": [
    "# hotel_distance = train_sampling.groupby(['hotel_cluster'])['orig_destination_distance'].describe()\n",
    "# print(hotel_distance)"
   ]
  },
  {
   "cell_type": "markdown",
   "metadata": {},
   "source": [
    "- orig_destination_distance\n",
    "    - 거리개념이라 음수또는 0으로 처리하기엔 좋지 않음\n",
    "    - 전체 mean, median을 일괄적용하기에는 Nan 비율이 너무 높음\n",
    "    - 각 유저별 mean 또는 median을 고려하기엔 user_id별 로그가 전혀없는 것들이 있음\n",
    "    - Hotel_cluster별 mean을 적용해보자"
   ]
  },
  {
   "cell_type": "code",
   "execution_count": 34,
   "metadata": {},
   "outputs": [
    {
     "name": "stdout",
     "output_type": "stream",
     "text": [
      "<class 'pandas.core.frame.DataFrame'>\n",
      "Int64Index: 2997341 entries, 12 to 1198182\n",
      "Data columns (total 27 columns):\n",
      "date_time                    datetime64[ns]\n",
      "site_name                    float64\n",
      "posa_continent               float64\n",
      "user_location_country        float64\n",
      "user_location_region         float64\n",
      "user_location_city           float64\n",
      "orig_destination_distance    float64\n",
      "user_id                      float64\n",
      "is_mobile                    float64\n",
      "is_package                   float64\n",
      "channel                      float64\n",
      "srch_ci                      object\n",
      "srch_co                      object\n",
      "srch_adults_cnt              float64\n",
      "srch_children_cnt            float64\n",
      "srch_rm_cnt                  float64\n",
      "srch_destination_id          float64\n",
      "srch_destination_type_id     float64\n",
      "is_booking                   float64\n",
      "cnt                          float64\n",
      "hotel_continent              float64\n",
      "hotel_country                float64\n",
      "hotel_market                 float64\n",
      "hotel_cluster                float64\n",
      "year                         float64\n",
      "month                        float64\n",
      "day                          float64\n",
      "dtypes: datetime64[ns](1), float64(24), object(2)\n",
      "memory usage: 640.3+ MB\n"
     ]
    }
   ],
   "source": [
    "train_booking.info()"
   ]
  },
  {
   "cell_type": "code",
   "execution_count": 35,
   "metadata": {},
   "outputs": [],
   "source": [
    "def fill_distance_by_cluster(df): # can use this func if the df has the 'hotel_cluster' column\n",
    "    hotel_distance = df.groupby(['hotel_cluster'])['orig_destination_distance'].describe()\n",
    "    cluster_avg_distance = pd.DataFrame(hotel_distance['mean'].tolist(), columns=['avg_distance'])\n",
    "    cluster_avg_distance['hotel_cluster'] = pd.DataFrame(cluster_avg_distance.index.tolist())\n",
    "\n",
    "    df = pd.merge(df, cluster_avg_distance, how='inner', on='hotel_cluster', left_index=True)\n",
    "    df.orig_destination_distance.fillna(df['avg_distance'], inplace=True)\n",
    "    df = df.drop(\"avg_distance\", axis=1)\n",
    "    \n",
    "    return df"
   ]
  },
  {
   "cell_type": "code",
   "execution_count": 36,
   "metadata": {},
   "outputs": [],
   "source": [
    "# train_sampling = fill_distance_by_cluster(train_sampling)"
   ]
  },
  {
   "cell_type": "code",
   "execution_count": 37,
   "metadata": {},
   "outputs": [],
   "source": [
    "# train_origin = fill_distance_by_cluster(train_origin)"
   ]
  },
  {
   "cell_type": "code",
   "execution_count": 38,
   "metadata": {},
   "outputs": [],
   "source": [
    "train_booking = fill_distance_by_cluster(train_booking)"
   ]
  },
  {
   "cell_type": "code",
   "execution_count": 39,
   "metadata": {
    "scrolled": true
   },
   "outputs": [],
   "source": [
    "# train_sampling.info()"
   ]
  },
  {
   "cell_type": "code",
   "execution_count": 40,
   "metadata": {},
   "outputs": [],
   "source": [
    "# train_sampling.groupby(['year'])['month'].value_counts()\n",
    "# train_sampling.groupby(['user_id'])['hotel_cluster'].value_counts()\n",
    "# train_sampling.groupby(['hotel_cluster'])['user_id'].value_counts()\n",
    "# print(min(train_sampling.groupby(['user_id'])['hotel_cluster'].value_counts()))\n",
    "# print(max(train_sampling.groupby(['user_id'])['hotel_cluster'].value_counts()))\n",
    "# train_sampling.groupby(['srch_destination_id'])['hotel_cluster'].value_counts()"
   ]
  },
  {
   "cell_type": "code",
   "execution_count": 31,
   "metadata": {
    "scrolled": true
   },
   "outputs": [
    {
     "name": "stdout",
     "output_type": "stream",
     "text": [
      "1\n",
      "25669\n"
     ]
    }
   ],
   "source": [
    "# print(min(train_sampling.groupby(['srch_destination_id'])['hotel_cluster'].value_counts()))\n",
    "# print(max(train_sampling.groupby(['srch_destination_id'])['hotel_cluster'].value_counts()))"
   ]
  },
  {
   "cell_type": "code",
   "execution_count": 41,
   "metadata": {},
   "outputs": [
    {
     "name": "stdout",
     "output_type": "stream",
     "text": [
      "1\n",
      "22040\n"
     ]
    }
   ],
   "source": [
    "print(min(train_booking.groupby(['srch_destination_id'])['hotel_cluster'].value_counts()))\n",
    "print(max(train_booking.groupby(['srch_destination_id'])['hotel_cluster'].value_counts()))"
   ]
  },
  {
   "cell_type": "code",
   "execution_count": 42,
   "metadata": {},
   "outputs": [
    {
     "name": "stdout",
     "output_type": "stream",
     "text": [
      " date_time\t\t\t Percent of NaN value: 0.00%\n",
      " site_name\t\t\t Percent of NaN value: 0.00%\n",
      "posa_continent\t\t\t Percent of NaN value: 0.00%\n",
      "user_location_country\t\t\t Percent of NaN value: 0.00%\n",
      "user_location_region\t\t\t Percent of NaN value: 0.00%\n",
      "user_location_city\t\t\t Percent of NaN value: 0.00%\n",
      "orig_destination_distance\t\t\t Percent of NaN value: 0.00%\n",
      "   user_id\t\t\t Percent of NaN value: 0.00%\n",
      " is_mobile\t\t\t Percent of NaN value: 0.00%\n",
      "is_package\t\t\t Percent of NaN value: 0.00%\n",
      "   channel\t\t\t Percent of NaN value: 0.00%\n",
      "   srch_ci\t\t\t Percent of NaN value: 0.00%\n",
      "   srch_co\t\t\t Percent of NaN value: 0.00%\n",
      "srch_adults_cnt\t\t\t Percent of NaN value: 0.00%\n",
      "srch_children_cnt\t\t\t Percent of NaN value: 0.00%\n",
      "srch_rm_cnt\t\t\t Percent of NaN value: 0.00%\n",
      "srch_destination_id\t\t\t Percent of NaN value: 0.00%\n",
      "srch_destination_type_id\t\t\t Percent of NaN value: 0.00%\n",
      "is_booking\t\t\t Percent of NaN value: 0.00%\n",
      "       cnt\t\t\t Percent of NaN value: 0.00%\n",
      "hotel_continent\t\t\t Percent of NaN value: 0.00%\n",
      "hotel_country\t\t\t Percent of NaN value: 0.00%\n",
      "hotel_market\t\t\t Percent of NaN value: 0.00%\n",
      "hotel_cluster\t\t\t Percent of NaN value: 0.00%\n",
      "      year\t\t\t Percent of NaN value: 0.00%\n",
      "     month\t\t\t Percent of NaN value: 0.00%\n",
      "       day\t\t\t Percent of NaN value: 0.00%\n"
     ]
    }
   ],
   "source": [
    "check_nan(train_booking)"
   ]
  },
  {
   "cell_type": "code",
   "execution_count": 44,
   "metadata": {},
   "outputs": [],
   "source": [
    "# check_nan(train_origin)"
   ]
  },
  {
   "cell_type": "markdown",
   "metadata": {},
   "source": [
    "### 1-6. Feature correlation analysis"
   ]
  },
  {
   "cell_type": "code",
   "execution_count": 45,
   "metadata": {},
   "outputs": [],
   "source": [
    "# train.corr()[train.corr() > 0.5] # run just once "
   ]
  },
  {
   "cell_type": "code",
   "execution_count": 46,
   "metadata": {},
   "outputs": [],
   "source": [
    "# train.corr()['hotel_cluster']"
   ]
  },
  {
   "cell_type": "code",
   "execution_count": 47,
   "metadata": {},
   "outputs": [],
   "source": [
    "# most missing feature : orig_destination_distance \n",
    "# Physical distance between a hotel and a customer at the time of search. \n",
    "# A null means the distance could not be calculated\n",
    "# train.corr()['orig_destination_distance']"
   ]
  },
  {
   "cell_type": "code",
   "execution_count": 48,
   "metadata": {},
   "outputs": [],
   "source": [
    "# train.corr()['srch_destination_id']"
   ]
  },
  {
   "cell_type": "markdown",
   "metadata": {},
   "source": [
    "- data description에 의해 직관적으로 중요해보이는 column에 대한 correlation 분석 실시\n",
    "- hotel_cluster와 선형 상관관계가 있는 feature는 없으므로, linear regression은 적합하지 않다고 판단\n",
    "- ML model을 돌리기 위한 추가 피처 고려 필요 (destination.csv)"
   ]
  },
  {
   "cell_type": "markdown",
   "metadata": {},
   "source": [
    "### 1-7. Additional feature generation with PCA"
   ]
  },
  {
   "cell_type": "code",
   "execution_count": 49,
   "metadata": {},
   "outputs": [],
   "source": [
    "# destinations.isnull().sum()\n",
    "# destinations.tail() "
   ]
  },
  {
   "cell_type": "markdown",
   "metadata": {},
   "source": [
    "- srch_destination_id에 결측치 있음"
   ]
  },
  {
   "cell_type": "code",
   "execution_count": 50,
   "metadata": {},
   "outputs": [
    {
     "name": "stdout",
     "output_type": "stream",
     "text": [
      "dim over 95% : 59\n"
     ]
    }
   ],
   "source": [
    "from sklearn.decomposition import PCA\n",
    "\n",
    "pca_full = PCA(n_components=149)\n",
    "destination_full_components = pca_full.fit_transform(destinations[[\"d{0}\".format(i + 1) for i in range(149)]])\n",
    "cumsum = np.cumsum(pca_full.explained_variance_ratio_)\n",
    "dim = np.argmax(cumsum >= 0.95) + 1\n",
    "print('dim over 95% :', dim)\n",
    "\n",
    "pca = PCA(n_components=dim)\n",
    "destination_compression = pca.fit_transform(destinations[[\"d{0}\".format(i + 1) for i in range(dim)]])\n",
    "destination_compression = pd.DataFrame(destination_compression)\n",
    "destination_compression[\"srch_destination_id\"] = destinations[\"srch_destination_id\"]\n",
    "# print('eigen_value :', pca.explained_variance_)\n",
    "# print('explained variance ratio :', pca.explained_variance_ratio_)"
   ]
  },
  {
   "cell_type": "markdown",
   "metadata": {},
   "source": [
    "- 누적된 분산의 비율이 95%가 되도록 차원 결정"
   ]
  },
  {
   "cell_type": "code",
   "execution_count": 51,
   "metadata": {
    "scrolled": false
   },
   "outputs": [],
   "source": [
    "# destination_compression.tail()\n",
    "# destination_compression.isnull().sum()"
   ]
  },
  {
   "cell_type": "markdown",
   "metadata": {},
   "source": [
    "### 1-8. Generate new feature"
   ]
  },
  {
   "cell_type": "markdown",
   "metadata": {},
   "source": [
    "- date_time 관련 time property에 대한 피처 추가\n",
    "- srch_in, srch_out 관련 date property에 대한 피처 추가\n",
    "- train_sampling feature와 destinations pca 결과 feature를 concat\n",
    "- train_sampling data set으로 학습"
   ]
  },
  {
   "cell_type": "code",
   "execution_count": 53,
   "metadata": {},
   "outputs": [],
   "source": [
    "def merge_features(df): \n",
    "    df[\"date_time\"] = pd.to_datetime(df[\"date_time\"])\n",
    "    df[\"srch_ci\"] = pd.to_datetime(df[\"srch_ci\"], format='%Y-%m-%d', errors=\"coerce\")\n",
    "    df[\"srch_co\"] = pd.to_datetime(df[\"srch_co\"], format='%Y-%m-%d', errors=\"coerce\")\n",
    "    \n",
    "    new_features = {}\n",
    "    \n",
    "    # Add time feature of date_time\n",
    "    kind_of_time = [\"quarter\", \"month\", \"dayofweek\", \"day\", \"hour\", \"minute\"]\n",
    "    for t in kind_of_time:\n",
    "        new_features[t] = getattr(df[\"date_time\"].dt, t)\n",
    "    \n",
    "    # Add date feature of srch_ci, srch_co & \n",
    "    kind_of_date = [\"month\", \"day\", \"dayofweek\", \"quarter\"]\n",
    "    for d in kind_of_date:\n",
    "        new_features[\"ci_{0}\".format(d)] = getattr(df[\"srch_ci\"].dt, d)\n",
    "        new_features[\"co_{0}\".format(d)] = getattr(df[\"srch_co\"].dt, d)\n",
    "    new_features[\"duration_of_stay\"] = (df[\"srch_co\"] - df[\"srch_ci\"]).astype('timedelta64[h]')\n",
    "    \n",
    "    # Add others feature\n",
    "    column_others = [p for p in df.columns if p not in [\"date_time\", \"srch_ci\", \"srch_co\"]]\n",
    "    for c in column_others:\n",
    "        new_features[c] = df[c]\n",
    "    \n",
    "    new_features_df = pd.DataFrame(new_features)\n",
    "    \n",
    "    # Concat destinations features\n",
    "    new_features_df = new_features_df.join(destination_compression, \n",
    "                                           on=\"srch_destination_id\", \n",
    "                                           how='left', \n",
    "                                           rsuffix=\"destination_compression\")\n",
    "    new_features_df = new_features_df.drop(\"srch_destination_iddestination_compression\", axis=1)\n",
    "\n",
    "    return new_features_df"
   ]
  },
  {
   "cell_type": "code",
   "execution_count": 54,
   "metadata": {},
   "outputs": [],
   "source": [
    "train_booking_addition = merge_features(train_booking)"
   ]
  },
  {
   "cell_type": "code",
   "execution_count": 57,
   "metadata": {},
   "outputs": [],
   "source": [
    "# train_sampling_addition = merge_features(train_sampling)\n",
    "# train_sampling_addition"
   ]
  },
  {
   "cell_type": "code",
   "execution_count": 58,
   "metadata": {},
   "outputs": [],
   "source": [
    "# train_origin_addition = merge_features(train_origin)\n",
    "# train_origin_addition"
   ]
  },
  {
   "cell_type": "code",
   "execution_count": 59,
   "metadata": {},
   "outputs": [],
   "source": [
    "# train_sampling_addition.tail()\n",
    "# train_sampling_addition.describe()"
   ]
  },
  {
   "cell_type": "code",
   "execution_count": 60,
   "metadata": {
    "scrolled": true
   },
   "outputs": [],
   "source": [
    "# check_nan(train_sampling_addition)"
   ]
  },
  {
   "cell_type": "code",
   "execution_count": 61,
   "metadata": {},
   "outputs": [
    {
     "name": "stdout",
     "output_type": "stream",
     "text": [
      "   quarter\t\t\t Percent of NaN value: 0.00%\n",
      "     month\t\t\t Percent of NaN value: 0.00%\n",
      " dayofweek\t\t\t Percent of NaN value: 0.00%\n",
      "       day\t\t\t Percent of NaN value: 0.00%\n",
      "      hour\t\t\t Percent of NaN value: 0.00%\n",
      "    minute\t\t\t Percent of NaN value: 0.00%\n",
      "  ci_month\t\t\t Percent of NaN value: 0.00%\n",
      "  co_month\t\t\t Percent of NaN value: 0.00%\n",
      "    ci_day\t\t\t Percent of NaN value: 0.00%\n",
      "    co_day\t\t\t Percent of NaN value: 0.00%\n",
      "ci_dayofweek\t\t\t Percent of NaN value: 0.00%\n",
      "co_dayofweek\t\t\t Percent of NaN value: 0.00%\n",
      "ci_quarter\t\t\t Percent of NaN value: 0.00%\n",
      "co_quarter\t\t\t Percent of NaN value: 0.00%\n",
      "duration_of_stay\t\t\t Percent of NaN value: 0.00%\n",
      " site_name\t\t\t Percent of NaN value: 0.00%\n",
      "posa_continent\t\t\t Percent of NaN value: 0.00%\n",
      "user_location_country\t\t\t Percent of NaN value: 0.00%\n",
      "user_location_region\t\t\t Percent of NaN value: 0.00%\n",
      "user_location_city\t\t\t Percent of NaN value: 0.00%\n",
      "orig_destination_distance\t\t\t Percent of NaN value: 0.00%\n",
      "   user_id\t\t\t Percent of NaN value: 0.00%\n",
      " is_mobile\t\t\t Percent of NaN value: 0.00%\n",
      "is_package\t\t\t Percent of NaN value: 0.00%\n",
      "   channel\t\t\t Percent of NaN value: 0.00%\n",
      "srch_adults_cnt\t\t\t Percent of NaN value: 0.00%\n",
      "srch_children_cnt\t\t\t Percent of NaN value: 0.00%\n",
      "srch_rm_cnt\t\t\t Percent of NaN value: 0.00%\n",
      "srch_destination_id\t\t\t Percent of NaN value: 0.00%\n",
      "srch_destination_type_id\t\t\t Percent of NaN value: 0.00%\n",
      "is_booking\t\t\t Percent of NaN value: 0.00%\n",
      "       cnt\t\t\t Percent of NaN value: 0.00%\n",
      "hotel_continent\t\t\t Percent of NaN value: 0.00%\n",
      "hotel_country\t\t\t Percent of NaN value: 0.00%\n",
      "hotel_market\t\t\t Percent of NaN value: 0.00%\n",
      "hotel_cluster\t\t\t Percent of NaN value: 0.00%\n",
      "      year\t\t\t Percent of NaN value: 0.00%\n",
      "         0\t\t\t Percent of NaN value: 0.19%\n",
      "         1\t\t\t Percent of NaN value: 0.19%\n",
      "         2\t\t\t Percent of NaN value: 0.19%\n",
      "         3\t\t\t Percent of NaN value: 0.19%\n",
      "         4\t\t\t Percent of NaN value: 0.19%\n",
      "         5\t\t\t Percent of NaN value: 0.19%\n",
      "         6\t\t\t Percent of NaN value: 0.19%\n",
      "         7\t\t\t Percent of NaN value: 0.19%\n",
      "         8\t\t\t Percent of NaN value: 0.19%\n",
      "         9\t\t\t Percent of NaN value: 0.19%\n",
      "        10\t\t\t Percent of NaN value: 0.19%\n",
      "        11\t\t\t Percent of NaN value: 0.19%\n",
      "        12\t\t\t Percent of NaN value: 0.19%\n",
      "        13\t\t\t Percent of NaN value: 0.19%\n",
      "        14\t\t\t Percent of NaN value: 0.19%\n",
      "        15\t\t\t Percent of NaN value: 0.19%\n",
      "        16\t\t\t Percent of NaN value: 0.19%\n",
      "        17\t\t\t Percent of NaN value: 0.19%\n",
      "        18\t\t\t Percent of NaN value: 0.19%\n",
      "        19\t\t\t Percent of NaN value: 0.19%\n",
      "        20\t\t\t Percent of NaN value: 0.19%\n",
      "        21\t\t\t Percent of NaN value: 0.19%\n",
      "        22\t\t\t Percent of NaN value: 0.19%\n",
      "        23\t\t\t Percent of NaN value: 0.19%\n",
      "        24\t\t\t Percent of NaN value: 0.19%\n",
      "        25\t\t\t Percent of NaN value: 0.19%\n",
      "        26\t\t\t Percent of NaN value: 0.19%\n",
      "        27\t\t\t Percent of NaN value: 0.19%\n",
      "        28\t\t\t Percent of NaN value: 0.19%\n",
      "        29\t\t\t Percent of NaN value: 0.19%\n",
      "        30\t\t\t Percent of NaN value: 0.19%\n",
      "        31\t\t\t Percent of NaN value: 0.19%\n",
      "        32\t\t\t Percent of NaN value: 0.19%\n",
      "        33\t\t\t Percent of NaN value: 0.19%\n",
      "        34\t\t\t Percent of NaN value: 0.19%\n",
      "        35\t\t\t Percent of NaN value: 0.19%\n",
      "        36\t\t\t Percent of NaN value: 0.19%\n",
      "        37\t\t\t Percent of NaN value: 0.19%\n",
      "        38\t\t\t Percent of NaN value: 0.19%\n",
      "        39\t\t\t Percent of NaN value: 0.19%\n",
      "        40\t\t\t Percent of NaN value: 0.19%\n",
      "        41\t\t\t Percent of NaN value: 0.19%\n",
      "        42\t\t\t Percent of NaN value: 0.19%\n",
      "        43\t\t\t Percent of NaN value: 0.19%\n",
      "        44\t\t\t Percent of NaN value: 0.19%\n",
      "        45\t\t\t Percent of NaN value: 0.19%\n",
      "        46\t\t\t Percent of NaN value: 0.19%\n",
      "        47\t\t\t Percent of NaN value: 0.19%\n",
      "        48\t\t\t Percent of NaN value: 0.19%\n",
      "        49\t\t\t Percent of NaN value: 0.19%\n",
      "        50\t\t\t Percent of NaN value: 0.19%\n",
      "        51\t\t\t Percent of NaN value: 0.19%\n",
      "        52\t\t\t Percent of NaN value: 0.19%\n",
      "        53\t\t\t Percent of NaN value: 0.19%\n",
      "        54\t\t\t Percent of NaN value: 0.19%\n",
      "        55\t\t\t Percent of NaN value: 0.19%\n",
      "        56\t\t\t Percent of NaN value: 0.19%\n",
      "        57\t\t\t Percent of NaN value: 0.19%\n",
      "        58\t\t\t Percent of NaN value: 0.19%\n"
     ]
    }
   ],
   "source": [
    "check_nan(train_booking_addition)"
   ]
  },
  {
   "cell_type": "markdown",
   "metadata": {},
   "source": [
    "- missing values : 샘플링할 때마다 차이가 생김. missing value candidate은 아래와 같다\n",
    "    - ci_dayofweek\n",
    "    - co_dayofweek\n",
    "    - ci_quarter\n",
    "    - co_quarter\n",
    "    - duration_of_stay\n",
    "    - srch_destination_id & 0-58"
   ]
  },
  {
   "cell_type": "code",
   "execution_count": 58,
   "metadata": {},
   "outputs": [],
   "source": [
    "# check_nan(train_origin_addition)"
   ]
  },
  {
   "cell_type": "markdown",
   "metadata": {},
   "source": [
    "### 1-9. srch_destination_id missing value 전략\n",
    "- feature 간의 상관관계가 없고, 전체 dataset 중에서 missing value가 차지하는 비율이 매우 적음\n",
    "- missing value를 처리하는 여러 방법 중, 제거하는 방법을 선택"
   ]
  },
  {
   "cell_type": "code",
   "execution_count": 59,
   "metadata": {},
   "outputs": [],
   "source": [
    "train_sampling_addition.dropna(inplace=True)"
   ]
  },
  {
   "cell_type": "code",
   "execution_count": 63,
   "metadata": {},
   "outputs": [],
   "source": [
    "# train_origin_addition.dropna(inplace=True)"
   ]
  },
  {
   "cell_type": "code",
   "execution_count": 60,
   "metadata": {
    "scrolled": true
   },
   "outputs": [
    {
     "name": "stdout",
     "output_type": "stream",
     "text": [
      "quarter 0\n",
      "month 0\n",
      "dayofweek 0\n",
      "day 0\n",
      "hour 0\n",
      "minute 0\n",
      "ci_month 0\n",
      "co_month 0\n",
      "ci_day 0\n",
      "co_day 0\n",
      "ci_dayofweek 0\n",
      "co_dayofweek 0\n",
      "ci_quarter 0\n",
      "co_quarter 0\n",
      "duration_of_stay 0\n",
      "site_name 0\n",
      "posa_continent 0\n",
      "user_location_country 0\n",
      "user_location_region 0\n",
      "user_location_city 0\n",
      "orig_destination_distance 0\n",
      "user_id 0\n",
      "is_mobile 0\n",
      "is_package 0\n",
      "channel 0\n",
      "srch_adults_cnt 0\n",
      "srch_children_cnt 0\n",
      "srch_rm_cnt 0\n",
      "srch_destination_id 0\n",
      "srch_destination_type_id 0\n",
      "is_booking 0\n",
      "cnt 0\n",
      "hotel_continent 0\n",
      "hotel_country 0\n",
      "hotel_market 0\n",
      "hotel_cluster 0\n",
      "year 0\n",
      "0 0\n",
      "1 0\n",
      "2 0\n",
      "3 0\n",
      "4 0\n",
      "5 0\n",
      "6 0\n",
      "7 0\n",
      "8 0\n",
      "9 0\n",
      "10 0\n",
      "11 0\n",
      "12 0\n",
      "13 0\n",
      "14 0\n",
      "15 0\n",
      "16 0\n",
      "17 0\n",
      "18 0\n",
      "19 0\n",
      "20 0\n",
      "21 0\n",
      "22 0\n",
      "23 0\n",
      "24 0\n",
      "25 0\n",
      "26 0\n",
      "27 0\n",
      "28 0\n",
      "29 0\n",
      "30 0\n",
      "31 0\n",
      "32 0\n",
      "33 0\n",
      "34 0\n",
      "35 0\n",
      "36 0\n",
      "37 0\n",
      "38 0\n",
      "39 0\n",
      "40 0\n",
      "41 0\n",
      "42 0\n",
      "43 0\n",
      "44 0\n",
      "45 0\n",
      "46 0\n",
      "47 0\n",
      "48 0\n",
      "49 0\n",
      "50 0\n",
      "51 0\n",
      "52 0\n",
      "53 0\n",
      "54 0\n",
      "55 0\n",
      "56 0\n",
      "57 0\n",
      "58 0\n"
     ]
    }
   ],
   "source": [
    "for col in train_sampling_addition.columns:\n",
    "    print(col, train_sampling_addition[col].isnull().sum())"
   ]
  },
  {
   "cell_type": "code",
   "execution_count": 61,
   "metadata": {},
   "outputs": [],
   "source": [
    "# for col in train_origin_addition.columns:\n",
    "#     print(col, train_origin_addition[col].isnull().sum())"
   ]
  },
  {
   "cell_type": "code",
   "execution_count": 62,
   "metadata": {},
   "outputs": [],
   "source": [
    "# train_sampling_addition.describe()"
   ]
  },
  {
   "cell_type": "markdown",
   "metadata": {},
   "source": [
    "# 2. Hotel cluster classification"
   ]
  },
  {
   "cell_type": "code",
   "execution_count": 19,
   "metadata": {},
   "outputs": [],
   "source": [
    "from sklearn.ensemble import RandomForestClassifier\n",
    "from sklearn import metrics \n",
    "from sklearn.model_selection import train_test_split \n",
    "\n",
    "from sklearn.svm import SVC\n",
    "from sklearn.pipeline import make_pipeline\n",
    "from sklearn.preprocessing import StandardScaler\n"
   ]
  },
  {
   "cell_type": "markdown",
   "metadata": {},
   "source": [
    "## 2-0. Data preparation (recap)"
   ]
  },
  {
   "cell_type": "markdown",
   "metadata": {},
   "source": [
    "### Train / Test split by train_sampling (ratio 80:20)\n",
    "- month 기준으로 분할 (일 기준으로 나눌 수 있지만, 분석의 용이성을 높이고자)\n",
    "- 24 month data를 8:2로 나누면, 대략 19 : 5 "
   ]
  },
  {
   "cell_type": "code",
   "execution_count": 91,
   "metadata": {},
   "outputs": [
    {
     "data": {
      "text/html": [
       "<div>\n",
       "<style scoped>\n",
       "    .dataframe tbody tr th:only-of-type {\n",
       "        vertical-align: middle;\n",
       "    }\n",
       "\n",
       "    .dataframe tbody tr th {\n",
       "        vertical-align: top;\n",
       "    }\n",
       "\n",
       "    .dataframe thead th {\n",
       "        text-align: right;\n",
       "    }\n",
       "</style>\n",
       "<table border=\"1\" class=\"dataframe\">\n",
       "  <thead>\n",
       "    <tr style=\"text-align: right;\">\n",
       "      <th></th>\n",
       "      <th>quarter</th>\n",
       "      <th>month</th>\n",
       "      <th>dayofweek</th>\n",
       "      <th>day</th>\n",
       "      <th>hour</th>\n",
       "      <th>minute</th>\n",
       "      <th>ci_month</th>\n",
       "      <th>co_month</th>\n",
       "      <th>ci_day</th>\n",
       "      <th>co_day</th>\n",
       "      <th>...</th>\n",
       "      <th>49</th>\n",
       "      <th>50</th>\n",
       "      <th>51</th>\n",
       "      <th>52</th>\n",
       "      <th>53</th>\n",
       "      <th>54</th>\n",
       "      <th>55</th>\n",
       "      <th>56</th>\n",
       "      <th>57</th>\n",
       "      <th>58</th>\n",
       "    </tr>\n",
       "  </thead>\n",
       "  <tbody>\n",
       "    <tr>\n",
       "      <td>60</td>\n",
       "      <td>3</td>\n",
       "      <td>8</td>\n",
       "      <td>1</td>\n",
       "      <td>19</td>\n",
       "      <td>8</td>\n",
       "      <td>12</td>\n",
       "      <td>8</td>\n",
       "      <td>8</td>\n",
       "      <td>22</td>\n",
       "      <td>23</td>\n",
       "      <td>...</td>\n",
       "      <td>-0.002614</td>\n",
       "      <td>0.005141</td>\n",
       "      <td>-0.000049</td>\n",
       "      <td>0.002156</td>\n",
       "      <td>-0.005777</td>\n",
       "      <td>0.004707</td>\n",
       "      <td>-0.004103</td>\n",
       "      <td>-0.000945</td>\n",
       "      <td>0.001189</td>\n",
       "      <td>-0.000399</td>\n",
       "    </tr>\n",
       "    <tr>\n",
       "      <td>60</td>\n",
       "      <td>3</td>\n",
       "      <td>8</td>\n",
       "      <td>3</td>\n",
       "      <td>21</td>\n",
       "      <td>9</td>\n",
       "      <td>11</td>\n",
       "      <td>8</td>\n",
       "      <td>9</td>\n",
       "      <td>31</td>\n",
       "      <td>4</td>\n",
       "      <td>...</td>\n",
       "      <td>0.001058</td>\n",
       "      <td>0.002349</td>\n",
       "      <td>0.002636</td>\n",
       "      <td>-0.004965</td>\n",
       "      <td>-0.002395</td>\n",
       "      <td>-0.000871</td>\n",
       "      <td>-0.003291</td>\n",
       "      <td>0.010262</td>\n",
       "      <td>-0.001704</td>\n",
       "      <td>0.000396</td>\n",
       "    </tr>\n",
       "    <tr>\n",
       "      <td>60</td>\n",
       "      <td>3</td>\n",
       "      <td>8</td>\n",
       "      <td>4</td>\n",
       "      <td>15</td>\n",
       "      <td>17</td>\n",
       "      <td>39</td>\n",
       "      <td>8</td>\n",
       "      <td>8</td>\n",
       "      <td>21</td>\n",
       "      <td>23</td>\n",
       "      <td>...</td>\n",
       "      <td>0.000928</td>\n",
       "      <td>0.000237</td>\n",
       "      <td>-0.001249</td>\n",
       "      <td>0.001359</td>\n",
       "      <td>0.000712</td>\n",
       "      <td>-0.000771</td>\n",
       "      <td>0.000569</td>\n",
       "      <td>-0.000075</td>\n",
       "      <td>-0.000644</td>\n",
       "      <td>-0.000038</td>\n",
       "    </tr>\n",
       "    <tr>\n",
       "      <td>60</td>\n",
       "      <td>3</td>\n",
       "      <td>8</td>\n",
       "      <td>1</td>\n",
       "      <td>5</td>\n",
       "      <td>12</td>\n",
       "      <td>30</td>\n",
       "      <td>8</td>\n",
       "      <td>8</td>\n",
       "      <td>15</td>\n",
       "      <td>17</td>\n",
       "      <td>...</td>\n",
       "      <td>0.001833</td>\n",
       "      <td>-0.002440</td>\n",
       "      <td>0.003780</td>\n",
       "      <td>-0.001019</td>\n",
       "      <td>0.001424</td>\n",
       "      <td>0.001924</td>\n",
       "      <td>-0.001179</td>\n",
       "      <td>0.001810</td>\n",
       "      <td>0.000913</td>\n",
       "      <td>0.001024</td>\n",
       "    </tr>\n",
       "    <tr>\n",
       "      <td>60</td>\n",
       "      <td>4</td>\n",
       "      <td>11</td>\n",
       "      <td>2</td>\n",
       "      <td>12</td>\n",
       "      <td>15</td>\n",
       "      <td>43</td>\n",
       "      <td>12</td>\n",
       "      <td>12</td>\n",
       "      <td>5</td>\n",
       "      <td>8</td>\n",
       "      <td>...</td>\n",
       "      <td>-0.000694</td>\n",
       "      <td>0.000663</td>\n",
       "      <td>0.000367</td>\n",
       "      <td>0.004844</td>\n",
       "      <td>-0.002389</td>\n",
       "      <td>0.000897</td>\n",
       "      <td>-0.000576</td>\n",
       "      <td>-0.001718</td>\n",
       "      <td>-0.000916</td>\n",
       "      <td>0.000220</td>\n",
       "    </tr>\n",
       "    <tr>\n",
       "      <td>...</td>\n",
       "      <td>...</td>\n",
       "      <td>...</td>\n",
       "      <td>...</td>\n",
       "      <td>...</td>\n",
       "      <td>...</td>\n",
       "      <td>...</td>\n",
       "      <td>...</td>\n",
       "      <td>...</td>\n",
       "      <td>...</td>\n",
       "      <td>...</td>\n",
       "      <td>...</td>\n",
       "      <td>...</td>\n",
       "      <td>...</td>\n",
       "      <td>...</td>\n",
       "      <td>...</td>\n",
       "      <td>...</td>\n",
       "      <td>...</td>\n",
       "      <td>...</td>\n",
       "      <td>...</td>\n",
       "      <td>...</td>\n",
       "      <td>...</td>\n",
       "    </tr>\n",
       "    <tr>\n",
       "      <td>74</td>\n",
       "      <td>4</td>\n",
       "      <td>11</td>\n",
       "      <td>1</td>\n",
       "      <td>11</td>\n",
       "      <td>22</td>\n",
       "      <td>27</td>\n",
       "      <td>11</td>\n",
       "      <td>11</td>\n",
       "      <td>27</td>\n",
       "      <td>30</td>\n",
       "      <td>...</td>\n",
       "      <td>-0.005583</td>\n",
       "      <td>-0.002793</td>\n",
       "      <td>-0.005284</td>\n",
       "      <td>0.001641</td>\n",
       "      <td>-0.002887</td>\n",
       "      <td>-0.000108</td>\n",
       "      <td>-0.002396</td>\n",
       "      <td>-0.001488</td>\n",
       "      <td>-0.000362</td>\n",
       "      <td>-0.001121</td>\n",
       "    </tr>\n",
       "    <tr>\n",
       "      <td>74</td>\n",
       "      <td>4</td>\n",
       "      <td>12</td>\n",
       "      <td>2</td>\n",
       "      <td>17</td>\n",
       "      <td>14</td>\n",
       "      <td>31</td>\n",
       "      <td>12</td>\n",
       "      <td>12</td>\n",
       "      <td>26</td>\n",
       "      <td>27</td>\n",
       "      <td>...</td>\n",
       "      <td>-0.005583</td>\n",
       "      <td>-0.002793</td>\n",
       "      <td>-0.005284</td>\n",
       "      <td>0.001641</td>\n",
       "      <td>-0.002887</td>\n",
       "      <td>-0.000108</td>\n",
       "      <td>-0.002396</td>\n",
       "      <td>-0.001488</td>\n",
       "      <td>-0.000362</td>\n",
       "      <td>-0.001121</td>\n",
       "    </tr>\n",
       "    <tr>\n",
       "      <td>74</td>\n",
       "      <td>4</td>\n",
       "      <td>10</td>\n",
       "      <td>6</td>\n",
       "      <td>26</td>\n",
       "      <td>23</td>\n",
       "      <td>23</td>\n",
       "      <td>1</td>\n",
       "      <td>1</td>\n",
       "      <td>22</td>\n",
       "      <td>26</td>\n",
       "      <td>...</td>\n",
       "      <td>-0.005583</td>\n",
       "      <td>-0.002793</td>\n",
       "      <td>-0.005284</td>\n",
       "      <td>0.001641</td>\n",
       "      <td>-0.002887</td>\n",
       "      <td>-0.000108</td>\n",
       "      <td>-0.002396</td>\n",
       "      <td>-0.001488</td>\n",
       "      <td>-0.000362</td>\n",
       "      <td>-0.001121</td>\n",
       "    </tr>\n",
       "    <tr>\n",
       "      <td>74</td>\n",
       "      <td>4</td>\n",
       "      <td>10</td>\n",
       "      <td>6</td>\n",
       "      <td>26</td>\n",
       "      <td>23</td>\n",
       "      <td>47</td>\n",
       "      <td>1</td>\n",
       "      <td>1</td>\n",
       "      <td>22</td>\n",
       "      <td>25</td>\n",
       "      <td>...</td>\n",
       "      <td>-0.005583</td>\n",
       "      <td>-0.002793</td>\n",
       "      <td>-0.005284</td>\n",
       "      <td>0.001641</td>\n",
       "      <td>-0.002887</td>\n",
       "      <td>-0.000108</td>\n",
       "      <td>-0.002396</td>\n",
       "      <td>-0.001488</td>\n",
       "      <td>-0.000362</td>\n",
       "      <td>-0.001121</td>\n",
       "    </tr>\n",
       "    <tr>\n",
       "      <td>74</td>\n",
       "      <td>4</td>\n",
       "      <td>11</td>\n",
       "      <td>5</td>\n",
       "      <td>29</td>\n",
       "      <td>13</td>\n",
       "      <td>45</td>\n",
       "      <td>2</td>\n",
       "      <td>2</td>\n",
       "      <td>17</td>\n",
       "      <td>19</td>\n",
       "      <td>...</td>\n",
       "      <td>-0.005583</td>\n",
       "      <td>-0.002793</td>\n",
       "      <td>-0.005284</td>\n",
       "      <td>0.001641</td>\n",
       "      <td>-0.002887</td>\n",
       "      <td>-0.000108</td>\n",
       "      <td>-0.002396</td>\n",
       "      <td>-0.001488</td>\n",
       "      <td>-0.000362</td>\n",
       "      <td>-0.001121</td>\n",
       "    </tr>\n",
       "  </tbody>\n",
       "</table>\n",
       "<p>32731 rows × 96 columns</p>\n",
       "</div>"
      ],
      "text/plain": [
       "    quarter  month  dayofweek  day  hour  minute  ci_month  co_month  ci_day  \\\n",
       "60        3      8          1   19     8      12         8         8      22   \n",
       "60        3      8          3   21     9      11         8         9      31   \n",
       "60        3      8          4   15    17      39         8         8      21   \n",
       "60        3      8          1    5    12      30         8         8      15   \n",
       "60        4     11          2   12    15      43        12        12       5   \n",
       "..      ...    ...        ...  ...   ...     ...       ...       ...     ...   \n",
       "74        4     11          1   11    22      27        11        11      27   \n",
       "74        4     12          2   17    14      31        12        12      26   \n",
       "74        4     10          6   26    23      23         1         1      22   \n",
       "74        4     10          6   26    23      47         1         1      22   \n",
       "74        4     11          5   29    13      45         2         2      17   \n",
       "\n",
       "    co_day  ...        49        50        51        52        53        54  \\\n",
       "60      23  ... -0.002614  0.005141 -0.000049  0.002156 -0.005777  0.004707   \n",
       "60       4  ...  0.001058  0.002349  0.002636 -0.004965 -0.002395 -0.000871   \n",
       "60      23  ...  0.000928  0.000237 -0.001249  0.001359  0.000712 -0.000771   \n",
       "60      17  ...  0.001833 -0.002440  0.003780 -0.001019  0.001424  0.001924   \n",
       "60       8  ... -0.000694  0.000663  0.000367  0.004844 -0.002389  0.000897   \n",
       "..     ...  ...       ...       ...       ...       ...       ...       ...   \n",
       "74      30  ... -0.005583 -0.002793 -0.005284  0.001641 -0.002887 -0.000108   \n",
       "74      27  ... -0.005583 -0.002793 -0.005284  0.001641 -0.002887 -0.000108   \n",
       "74      26  ... -0.005583 -0.002793 -0.005284  0.001641 -0.002887 -0.000108   \n",
       "74      25  ... -0.005583 -0.002793 -0.005284  0.001641 -0.002887 -0.000108   \n",
       "74      19  ... -0.005583 -0.002793 -0.005284  0.001641 -0.002887 -0.000108   \n",
       "\n",
       "          55        56        57        58  \n",
       "60 -0.004103 -0.000945  0.001189 -0.000399  \n",
       "60 -0.003291  0.010262 -0.001704  0.000396  \n",
       "60  0.000569 -0.000075 -0.000644 -0.000038  \n",
       "60 -0.001179  0.001810  0.000913  0.001024  \n",
       "60 -0.000576 -0.001718 -0.000916  0.000220  \n",
       "..       ...       ...       ...       ...  \n",
       "74 -0.002396 -0.001488 -0.000362 -0.001121  \n",
       "74 -0.002396 -0.001488 -0.000362 -0.001121  \n",
       "74 -0.002396 -0.001488 -0.000362 -0.001121  \n",
       "74 -0.002396 -0.001488 -0.000362 -0.001121  \n",
       "74 -0.002396 -0.001488 -0.000362 -0.001121  \n",
       "\n",
       "[32731 rows x 96 columns]"
      ]
     },
     "execution_count": 91,
     "metadata": {},
     "output_type": "execute_result"
    }
   ],
   "source": [
    "train_new = train_sampling_addition[((train_sampling_addition.year == 2013) | ((train_sampling_addition.year == 2014) & (train_sampling_addition.month <= 7)))]\n",
    "test_new = train_sampling_addition[((train_sampling_addition.year == 2014) & (train_sampling_addition.month >= 8))]\n",
    "test_new = test_new[test_new.is_booking == 1]\n",
    "test_new"
   ]
  },
  {
   "cell_type": "code",
   "execution_count": 21,
   "metadata": {},
   "outputs": [],
   "source": [
    "train_origin_new = train_origin_addition[((train_origin_addition.year == 2013) | ((train_origin_addition.year == 2014) & (train_origin_addition.month <= 7)))]\n",
    "test_origin_new = train_origin_addition[((train_origin_addition.year == 2014) & (train_origin_addition.month >= 8))]\n",
    "test_origin_new = test_origin_new[test_origin_new.is_booking == 1]"
   ]
  },
  {
   "cell_type": "code",
   "execution_count": 93,
   "metadata": {},
   "outputs": [
    {
     "name": "stdout",
     "output_type": "stream",
     "text": [
      "   quarter\t\t\t Percent of NaN value: 0.00%\n",
      "     month\t\t\t Percent of NaN value: 0.00%\n",
      " dayofweek\t\t\t Percent of NaN value: 0.00%\n",
      "       day\t\t\t Percent of NaN value: 0.00%\n",
      "      hour\t\t\t Percent of NaN value: 0.00%\n",
      "    minute\t\t\t Percent of NaN value: 0.00%\n",
      "  ci_month\t\t\t Percent of NaN value: 0.00%\n",
      "  co_month\t\t\t Percent of NaN value: 0.00%\n",
      "    ci_day\t\t\t Percent of NaN value: 0.00%\n",
      "    co_day\t\t\t Percent of NaN value: 0.00%\n",
      "ci_dayofweek\t\t\t Percent of NaN value: 0.00%\n",
      "co_dayofweek\t\t\t Percent of NaN value: 0.00%\n",
      "ci_quarter\t\t\t Percent of NaN value: 0.00%\n",
      "co_quarter\t\t\t Percent of NaN value: 0.00%\n",
      "duration_of_stay\t\t\t Percent of NaN value: 0.00%\n",
      " site_name\t\t\t Percent of NaN value: 0.00%\n",
      "posa_continent\t\t\t Percent of NaN value: 0.00%\n",
      "user_location_country\t\t\t Percent of NaN value: 0.00%\n",
      "user_location_region\t\t\t Percent of NaN value: 0.00%\n",
      "user_location_city\t\t\t Percent of NaN value: 0.00%\n",
      "orig_destination_distance\t\t\t Percent of NaN value: 0.00%\n",
      "   user_id\t\t\t Percent of NaN value: 0.00%\n",
      " is_mobile\t\t\t Percent of NaN value: 0.00%\n",
      "is_package\t\t\t Percent of NaN value: 0.00%\n",
      "   channel\t\t\t Percent of NaN value: 0.00%\n",
      "srch_adults_cnt\t\t\t Percent of NaN value: 0.00%\n",
      "srch_children_cnt\t\t\t Percent of NaN value: 0.00%\n",
      "srch_rm_cnt\t\t\t Percent of NaN value: 0.00%\n",
      "srch_destination_id\t\t\t Percent of NaN value: 0.00%\n",
      "srch_destination_type_id\t\t\t Percent of NaN value: 0.00%\n",
      "is_booking\t\t\t Percent of NaN value: 0.00%\n",
      "       cnt\t\t\t Percent of NaN value: 0.00%\n",
      "hotel_continent\t\t\t Percent of NaN value: 0.00%\n",
      "hotel_country\t\t\t Percent of NaN value: 0.00%\n",
      "hotel_market\t\t\t Percent of NaN value: 0.00%\n",
      "hotel_cluster\t\t\t Percent of NaN value: 0.00%\n",
      "      year\t\t\t Percent of NaN value: 0.00%\n",
      "         0\t\t\t Percent of NaN value: 0.00%\n",
      "         1\t\t\t Percent of NaN value: 0.00%\n",
      "         2\t\t\t Percent of NaN value: 0.00%\n",
      "         3\t\t\t Percent of NaN value: 0.00%\n",
      "         4\t\t\t Percent of NaN value: 0.00%\n",
      "         5\t\t\t Percent of NaN value: 0.00%\n",
      "         6\t\t\t Percent of NaN value: 0.00%\n",
      "         7\t\t\t Percent of NaN value: 0.00%\n",
      "         8\t\t\t Percent of NaN value: 0.00%\n",
      "         9\t\t\t Percent of NaN value: 0.00%\n",
      "        10\t\t\t Percent of NaN value: 0.00%\n",
      "        11\t\t\t Percent of NaN value: 0.00%\n",
      "        12\t\t\t Percent of NaN value: 0.00%\n",
      "        13\t\t\t Percent of NaN value: 0.00%\n",
      "        14\t\t\t Percent of NaN value: 0.00%\n",
      "        15\t\t\t Percent of NaN value: 0.00%\n",
      "        16\t\t\t Percent of NaN value: 0.00%\n",
      "        17\t\t\t Percent of NaN value: 0.00%\n",
      "        18\t\t\t Percent of NaN value: 0.00%\n",
      "        19\t\t\t Percent of NaN value: 0.00%\n",
      "        20\t\t\t Percent of NaN value: 0.00%\n",
      "        21\t\t\t Percent of NaN value: 0.00%\n",
      "        22\t\t\t Percent of NaN value: 0.00%\n",
      "        23\t\t\t Percent of NaN value: 0.00%\n",
      "        24\t\t\t Percent of NaN value: 0.00%\n",
      "        25\t\t\t Percent of NaN value: 0.00%\n",
      "        26\t\t\t Percent of NaN value: 0.00%\n",
      "        27\t\t\t Percent of NaN value: 0.00%\n",
      "        28\t\t\t Percent of NaN value: 0.00%\n",
      "        29\t\t\t Percent of NaN value: 0.00%\n",
      "        30\t\t\t Percent of NaN value: 0.00%\n",
      "        31\t\t\t Percent of NaN value: 0.00%\n",
      "        32\t\t\t Percent of NaN value: 0.00%\n",
      "        33\t\t\t Percent of NaN value: 0.00%\n",
      "        34\t\t\t Percent of NaN value: 0.00%\n",
      "        35\t\t\t Percent of NaN value: 0.00%\n",
      "        36\t\t\t Percent of NaN value: 0.00%\n",
      "        37\t\t\t Percent of NaN value: 0.00%\n",
      "        38\t\t\t Percent of NaN value: 0.00%\n",
      "        39\t\t\t Percent of NaN value: 0.00%\n",
      "        40\t\t\t Percent of NaN value: 0.00%\n",
      "        41\t\t\t Percent of NaN value: 0.00%\n",
      "        42\t\t\t Percent of NaN value: 0.00%\n",
      "        43\t\t\t Percent of NaN value: 0.00%\n",
      "        44\t\t\t Percent of NaN value: 0.00%\n",
      "        45\t\t\t Percent of NaN value: 0.00%\n",
      "        46\t\t\t Percent of NaN value: 0.00%\n",
      "        47\t\t\t Percent of NaN value: 0.00%\n",
      "        48\t\t\t Percent of NaN value: 0.00%\n",
      "        49\t\t\t Percent of NaN value: 0.00%\n",
      "        50\t\t\t Percent of NaN value: 0.00%\n",
      "        51\t\t\t Percent of NaN value: 0.00%\n",
      "        52\t\t\t Percent of NaN value: 0.00%\n",
      "        53\t\t\t Percent of NaN value: 0.00%\n",
      "        54\t\t\t Percent of NaN value: 0.00%\n",
      "        55\t\t\t Percent of NaN value: 0.00%\n",
      "        56\t\t\t Percent of NaN value: 0.00%\n",
      "        57\t\t\t Percent of NaN value: 0.00%\n",
      "        58\t\t\t Percent of NaN value: 0.00%\n",
      "None\n",
      "   quarter\t\t\t Percent of NaN value: 0.00%\n",
      "     month\t\t\t Percent of NaN value: 0.00%\n",
      " dayofweek\t\t\t Percent of NaN value: 0.00%\n",
      "       day\t\t\t Percent of NaN value: 0.00%\n",
      "      hour\t\t\t Percent of NaN value: 0.00%\n",
      "    minute\t\t\t Percent of NaN value: 0.00%\n",
      "  ci_month\t\t\t Percent of NaN value: 0.00%\n",
      "  co_month\t\t\t Percent of NaN value: 0.00%\n",
      "    ci_day\t\t\t Percent of NaN value: 0.00%\n",
      "    co_day\t\t\t Percent of NaN value: 0.00%\n",
      "ci_dayofweek\t\t\t Percent of NaN value: 0.00%\n",
      "co_dayofweek\t\t\t Percent of NaN value: 0.00%\n",
      "ci_quarter\t\t\t Percent of NaN value: 0.00%\n",
      "co_quarter\t\t\t Percent of NaN value: 0.00%\n",
      "duration_of_stay\t\t\t Percent of NaN value: 0.00%\n",
      " site_name\t\t\t Percent of NaN value: 0.00%\n",
      "posa_continent\t\t\t Percent of NaN value: 0.00%\n",
      "user_location_country\t\t\t Percent of NaN value: 0.00%\n",
      "user_location_region\t\t\t Percent of NaN value: 0.00%\n",
      "user_location_city\t\t\t Percent of NaN value: 0.00%\n",
      "orig_destination_distance\t\t\t Percent of NaN value: 0.00%\n",
      "   user_id\t\t\t Percent of NaN value: 0.00%\n",
      " is_mobile\t\t\t Percent of NaN value: 0.00%\n",
      "is_package\t\t\t Percent of NaN value: 0.00%\n",
      "   channel\t\t\t Percent of NaN value: 0.00%\n",
      "srch_adults_cnt\t\t\t Percent of NaN value: 0.00%\n",
      "srch_children_cnt\t\t\t Percent of NaN value: 0.00%\n",
      "srch_rm_cnt\t\t\t Percent of NaN value: 0.00%\n",
      "srch_destination_id\t\t\t Percent of NaN value: 0.00%\n",
      "srch_destination_type_id\t\t\t Percent of NaN value: 0.00%\n",
      "is_booking\t\t\t Percent of NaN value: 0.00%\n",
      "       cnt\t\t\t Percent of NaN value: 0.00%\n",
      "hotel_continent\t\t\t Percent of NaN value: 0.00%\n",
      "hotel_country\t\t\t Percent of NaN value: 0.00%\n",
      "hotel_market\t\t\t Percent of NaN value: 0.00%\n",
      "hotel_cluster\t\t\t Percent of NaN value: 0.00%\n",
      "      year\t\t\t Percent of NaN value: 0.00%\n",
      "         0\t\t\t Percent of NaN value: 0.00%\n",
      "         1\t\t\t Percent of NaN value: 0.00%\n",
      "         2\t\t\t Percent of NaN value: 0.00%\n",
      "         3\t\t\t Percent of NaN value: 0.00%\n",
      "         4\t\t\t Percent of NaN value: 0.00%\n",
      "         5\t\t\t Percent of NaN value: 0.00%\n",
      "         6\t\t\t Percent of NaN value: 0.00%\n",
      "         7\t\t\t Percent of NaN value: 0.00%\n",
      "         8\t\t\t Percent of NaN value: 0.00%\n",
      "         9\t\t\t Percent of NaN value: 0.00%\n",
      "        10\t\t\t Percent of NaN value: 0.00%\n",
      "        11\t\t\t Percent of NaN value: 0.00%\n",
      "        12\t\t\t Percent of NaN value: 0.00%\n",
      "        13\t\t\t Percent of NaN value: 0.00%\n",
      "        14\t\t\t Percent of NaN value: 0.00%\n",
      "        15\t\t\t Percent of NaN value: 0.00%\n",
      "        16\t\t\t Percent of NaN value: 0.00%\n",
      "        17\t\t\t Percent of NaN value: 0.00%\n",
      "        18\t\t\t Percent of NaN value: 0.00%\n",
      "        19\t\t\t Percent of NaN value: 0.00%\n",
      "        20\t\t\t Percent of NaN value: 0.00%\n",
      "        21\t\t\t Percent of NaN value: 0.00%\n",
      "        22\t\t\t Percent of NaN value: 0.00%\n",
      "        23\t\t\t Percent of NaN value: 0.00%\n",
      "        24\t\t\t Percent of NaN value: 0.00%\n",
      "        25\t\t\t Percent of NaN value: 0.00%\n",
      "        26\t\t\t Percent of NaN value: 0.00%\n",
      "        27\t\t\t Percent of NaN value: 0.00%\n",
      "        28\t\t\t Percent of NaN value: 0.00%\n",
      "        29\t\t\t Percent of NaN value: 0.00%\n",
      "        30\t\t\t Percent of NaN value: 0.00%\n",
      "        31\t\t\t Percent of NaN value: 0.00%\n",
      "        32\t\t\t Percent of NaN value: 0.00%\n",
      "        33\t\t\t Percent of NaN value: 0.00%\n",
      "        34\t\t\t Percent of NaN value: 0.00%\n",
      "        35\t\t\t Percent of NaN value: 0.00%\n",
      "        36\t\t\t Percent of NaN value: 0.00%\n",
      "        37\t\t\t Percent of NaN value: 0.00%\n",
      "        38\t\t\t Percent of NaN value: 0.00%\n",
      "        39\t\t\t Percent of NaN value: 0.00%\n",
      "        40\t\t\t Percent of NaN value: 0.00%\n",
      "        41\t\t\t Percent of NaN value: 0.00%\n",
      "        42\t\t\t Percent of NaN value: 0.00%\n",
      "        43\t\t\t Percent of NaN value: 0.00%\n",
      "        44\t\t\t Percent of NaN value: 0.00%\n",
      "        45\t\t\t Percent of NaN value: 0.00%\n",
      "        46\t\t\t Percent of NaN value: 0.00%\n",
      "        47\t\t\t Percent of NaN value: 0.00%\n",
      "        48\t\t\t Percent of NaN value: 0.00%\n",
      "        49\t\t\t Percent of NaN value: 0.00%\n",
      "        50\t\t\t Percent of NaN value: 0.00%\n",
      "        51\t\t\t Percent of NaN value: 0.00%\n",
      "        52\t\t\t Percent of NaN value: 0.00%\n",
      "        53\t\t\t Percent of NaN value: 0.00%\n",
      "        54\t\t\t Percent of NaN value: 0.00%\n",
      "        55\t\t\t Percent of NaN value: 0.00%\n",
      "        56\t\t\t Percent of NaN value: 0.00%\n",
      "        57\t\t\t Percent of NaN value: 0.00%\n",
      "        58\t\t\t Percent of NaN value: 0.00%\n",
      "None\n"
     ]
    }
   ],
   "source": [
    "print(check_nan(train_new))\n",
    "print(check_nan(test_new))"
   ]
  },
  {
   "cell_type": "code",
   "execution_count": 22,
   "metadata": {},
   "outputs": [],
   "source": [
    "def make_label(df, target):\n",
    "    x = df.drop(target, axis=1).values\n",
    "    y = df[target].values\n",
    "    \n",
    "    return x, y"
   ]
  },
  {
   "cell_type": "code",
   "execution_count": null,
   "metadata": {},
   "outputs": [],
   "source": [
    "train_x, train_y = make_label(train_new, 'hotel_cluster')\n",
    "print(train_x.shape)\n",
    "print(train_y.shape)\n",
    "\n",
    "valid_x, valid_y = make_label(test_new, 'hotel_cluster')\n",
    "print(valid_x.shape)\n",
    "print(valid_y.shape)"
   ]
  },
  {
   "cell_type": "code",
   "execution_count": 23,
   "metadata": {},
   "outputs": [
    {
     "name": "stdout",
     "output_type": "stream",
     "text": [
      "(23831213, 95)\n",
      "(23831213,)\n",
      "(977013, 95)\n",
      "(977013,)\n"
     ]
    }
   ],
   "source": [
    "train_origin_x, train_origin_y = make_label(train_origin_new, 'hotel_cluster')\n",
    "print(train_origin_x.shape)\n",
    "print(train_origin_y.shape)\n",
    "\n",
    "valid_origin_x, valid_origin_y = make_label(test_origin_new, 'hotel_cluster')\n",
    "print(valid_origin_x.shape)\n",
    "print(valid_origin_y.shape)"
   ]
  },
  {
   "cell_type": "code",
   "execution_count": null,
   "metadata": {},
   "outputs": [],
   "source": []
  },
  {
   "cell_type": "code",
   "execution_count": null,
   "metadata": {},
   "outputs": [],
   "source": [
    "predictors = [c for c in df.columns if c not in ['hotel_cluster']]\n",
    "\n",
    "clf = sklearn.ensemble.RandomForestClassifier(\n",
    "    n_estimators=10, \n",
    "    min_weight_fraction_leaf=0.1,\n",
    ")\n",
    "scores = sklearn.cross_validation.cross_val_score(\n",
    "    clf,\n",
    "    df[predictors],\n",
    "    df['hotel_cluster'],\n",
    "    cv=5,\n",
    ")\n",
    "scores"
   ]
  },
  {
   "cell_type": "markdown",
   "metadata": {},
   "source": [
    "## 2-1. Random forest classifier"
   ]
  },
  {
   "cell_type": "code",
   "execution_count": null,
   "metadata": {},
   "outputs": [],
   "source": [
    "# Random forest using sampling data\n",
    "RFC = RandomForestClassifier(n_estimators=10, min_weight_fraction_leaf=0.1)\n",
    "RFC.fit(train_x, train_y)\n",
    "train_prediction = RFC.predict(train_x)\n",
    "valid_prediction = RFC.predict(valid_x)\n",
    "print('Train set ({} data) Accuracy : {:.2f}%'.format(train_y.shape[0], 100 * metrics.accuracy_score(train_prediction, train_y)))\n",
    "print('Validation set ({} data) Accuracy : {:.2f}%'.format(valid_y.shape[0], 100 * metrics.accuracy_score(valid_prediction, valid_y)))"
   ]
  },
  {
   "cell_type": "code",
   "execution_count": null,
   "metadata": {},
   "outputs": [],
   "source": [
    "# Random forest using full data\n",
    "RFC = RandomForestClassifier(n_estimators=10, min_weight_fraction_leaf=0.1)\n",
    "RFC.fit(train_origin_x, train_origin_y)\n",
    "train_origin_prediction = RFC.predict(train_origin_x)\n",
    "valid_origin_prediction = RFC.predict(valid_origin_x)\n",
    "print('Train set ({} data) Accuracy : {:.2f}%'.format(train_origin_y.shape[0], 100 * metrics.accuracy_score(train_origin_prediction, train_origin_y)))\n",
    "print('Validation set ({} data) Accuracy : {:.2f}%'.format(valid_origin_y.shape[0], 100 * metrics.accuracy_score(valid_origin_prediction, valid_origin_y)))"
   ]
  },
  {
   "cell_type": "code",
   "execution_count": 107,
   "metadata": {},
   "outputs": [
    {
     "data": {
      "image/png": "[encoded data removed]",
      "text/plain": [
       "<Figure size 576x576 with 1 Axes>"
      ]
     },
     "metadata": {
      "needs_background": "light"
     },
     "output_type": "display_data"
    }
   ],
   "source": [
    "from pandas import Series\n",
    "\n",
    "feature_importance = RFC.feature_importances_\n",
    "Series_feat_imp = Series(feature_importance, index=train_new.drop('hotel_cluster', axis=1).columns)\n",
    "\n",
    "plt.figure(figsize=(8, 8))\n",
    "Series_feat_imp.sort_values(ascending=True).plot.barh()\n",
    "plt.xlabel('Feature importance')\n",
    "plt.ylabel('Feature')\n",
    "plt.show()"
   ]
  },
  {
   "cell_type": "markdown",
   "metadata": {},
   "source": [
    "### RFC 결과를 통해 알게 된 점\n",
    "- 트레이닝 셋이 대해서는 학습이 잘 되었지만, 밸리데이션 셋에 대해서는 성능이 매우 저하된 것으로 보아 feature engineering을 충분히 잘하지 못했거나, overfitting이 되었다고 봄\n",
    "- 샘플링 데이터로 먼저 시도하여 낮은 정확도를 얻은 후 전체 데이터 셋으로 학습 및 평가하였지만(sampling rate이 너무 낮은 문제일 수도 있다는 판단), 많은 성능 개선이 일어나지 않음\n",
    "- feature importance를 뽑아보았을 때, orig_destination_distance, user_location등이 높은 importance를 보임 -> "
   ]
  },
  {
   "cell_type": "markdown",
   "metadata": {},
   "source": [
    "## 2-2. Support Vector Classification"
   ]
  },
  {
   "cell_type": "code",
   "execution_count": null,
   "metadata": {},
   "outputs": [],
   "source": [
    "svc = make_pipeline(StandardScaler(), SVC(gamma='auto'))\n",
    "svc.fit(train_x, train_y)\n",
    "Pipeline(steps=[('standardscaler', StandardScaler()),\n",
    "                ('svc', SVC(gamma='auto'))])"
   ]
  },
  {
   "cell_type": "code",
   "execution_count": null,
   "metadata": {},
   "outputs": [],
   "source": []
  },
  {
   "cell_type": "code",
   "execution_count": null,
   "metadata": {},
   "outputs": [],
   "source": []
  },
  {
   "cell_type": "code",
   "execution_count": null,
   "metadata": {},
   "outputs": [],
   "source": []
  },
  {
   "cell_type": "code",
   "execution_count": null,
   "metadata": {},
   "outputs": [],
   "source": []
  },
  {
   "cell_type": "code",
   "execution_count": null,
   "metadata": {},
   "outputs": [],
   "source": []
  },
  {
   "cell_type": "markdown",
   "metadata": {},
   "source": [
    "## 2-4. Popularity-based recommendation\n",
    "- orig_destination_distance의 importance가 높다는 의미 : 호텔 선정에 거리가 중요 ->(filtering)-> 목적지별 인기있는 호텔이있을 것이다(가정)\n",
    "- srch_destination_id에 대해 인기있는 hotel_cluster를 추천하는 방식 (booking & view weighting)"
   ]
  },
  {
   "cell_type": "code",
   "execution_count": null,
   "metadata": {},
   "outputs": [],
   "source": []
  }
 ],
 "metadata": {
  "kernelspec": {
   "display_name": "Python 3",
   "language": "python",
   "name": "python3"
  },
  "language_info": {
   "codemirror_mode": {
    "name": "ipython",
    "version": 3
   },
   "file_extension": ".py",
   "mimetype": "text/x-python",
   "name": "python",
   "nbconvert_exporter": "python",
   "pygments_lexer": "ipython3",
   "version": "3.7.4"
  }
 },
 "nbformat": 4,
 "nbformat_minor": 4
}
