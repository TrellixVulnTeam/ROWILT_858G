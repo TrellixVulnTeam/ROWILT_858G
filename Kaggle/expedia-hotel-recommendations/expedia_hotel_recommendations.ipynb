{
 "cells": [
  {
   "cell_type": "markdown",
   "metadata": {},
   "source": [
    "# Expedia Hotel Recommendation"
   ]
  },
  {
   "cell_type": "markdown",
   "metadata": {},
   "source": [
    "Data Description\n",
    "\n",
    "Expedia has provided you logs of customer behavior. These include what customers searched for, how they interacted with search results (click/book), whether or not the search result was a travel package. The data in this competition is a random selection from Expedia and is not representative of the overall statistics.\n",
    "\n",
    "Expedia is interested in predicting which hotel group a user is going to book. Expedia has in-house algorithms to form hotel clusters, where similar hotels for a search (based on historical price, customer star ratings, geographical locations relative to city center, etc) are grouped together. These hotel clusters serve as good identifiers to which types of hotels people are going to book, while avoiding outliers such as new hotels that don't have historical data.\n",
    "\n",
    "Your goal of this competition is to predict the booking outcome (hotel cluster) for a user event, based on their search and other attributes associated with that user event.\n",
    "\n",
    "The train and test datasets are split based on time: training data from 2013 and 2014, while test data are from 2015. The public/private leaderboard data are split base on time as well. Training data includes all the users in the logs, including both click events and booking events. Test data only includes booking events. \n",
    "\n",
    "destinations.csv data consists of features extracted from hotel reviews text. \n",
    "\n",
    "Note that some srch_destination_id's in the train/test files don't exist in the destinations.csv file. This is because some hotels are new and don't have enough features in the latent space. Your algorithm should be able to handle this missing information."
   ]
  },
  {
   "cell_type": "markdown",
   "metadata": {},
   "source": [
    "# 1. Data preprocessing & EDA"
   ]
  },
  {
   "cell_type": "code",
   "execution_count": 1,
   "metadata": {},
   "outputs": [],
   "source": [
    "import numpy as np\n",
    "import pandas as pd\n",
    "import matplotlib.pyplot as plt\n",
    "import random\n",
    "import seaborn as sns\n",
    "\n",
    "plt.style.use('seaborn')\n",
    "sns.set(font_scale=2.5)\n",
    "\n",
    "import warnings\n",
    "warnings.filterwarnings('ignore')\n",
    "\n",
    "%matplotlib inline\n",
    "\n",
    "import missingno as msno\n",
    "import ml_metrics as metrics"
   ]
  },
  {
   "cell_type": "markdown",
   "metadata": {},
   "source": [
    "### 1-0. Load Dataset"
   ]
  },
  {
   "cell_type": "code",
   "execution_count": 2,
   "metadata": {},
   "outputs": [],
   "source": [
    "destinations = pd.read_csv(\"destinations.csv\")\n",
    "test = pd.read_csv(\"test.csv\")\n",
    "train = pd.read_csv(\"train.csv\")"
   ]
  },
  {
   "cell_type": "markdown",
   "metadata": {},
   "source": [
    "### 1-1. Check Dataset"
   ]
  },
  {
   "cell_type": "code",
   "execution_count": 4,
   "metadata": {},
   "outputs": [
    {
     "data": {
      "text/html": [
       "<div>\n",
       "<style scoped>\n",
       "    .dataframe tbody tr th:only-of-type {\n",
       "        vertical-align: middle;\n",
       "    }\n",
       "\n",
       "    .dataframe tbody tr th {\n",
       "        vertical-align: top;\n",
       "    }\n",
       "\n",
       "    .dataframe thead th {\n",
       "        text-align: right;\n",
       "    }\n",
       "</style>\n",
       "<table border=\"1\" class=\"dataframe\">\n",
       "  <thead>\n",
       "    <tr style=\"text-align: right;\">\n",
       "      <th></th>\n",
       "      <th>date_time</th>\n",
       "      <th>site_name</th>\n",
       "      <th>posa_continent</th>\n",
       "      <th>user_location_country</th>\n",
       "      <th>user_location_region</th>\n",
       "      <th>user_location_city</th>\n",
       "      <th>orig_destination_distance</th>\n",
       "      <th>user_id</th>\n",
       "      <th>is_mobile</th>\n",
       "      <th>is_package</th>\n",
       "      <th>...</th>\n",
       "      <th>srch_children_cnt</th>\n",
       "      <th>srch_rm_cnt</th>\n",
       "      <th>srch_destination_id</th>\n",
       "      <th>srch_destination_type_id</th>\n",
       "      <th>is_booking</th>\n",
       "      <th>cnt</th>\n",
       "      <th>hotel_continent</th>\n",
       "      <th>hotel_country</th>\n",
       "      <th>hotel_market</th>\n",
       "      <th>hotel_cluster</th>\n",
       "    </tr>\n",
       "  </thead>\n",
       "  <tbody>\n",
       "    <tr>\n",
       "      <td>37670288</td>\n",
       "      <td>2014-09-02 08:08:28</td>\n",
       "      <td>2</td>\n",
       "      <td>3</td>\n",
       "      <td>66</td>\n",
       "      <td>174</td>\n",
       "      <td>26232</td>\n",
       "      <td>2348.4075</td>\n",
       "      <td>1198182</td>\n",
       "      <td>0</td>\n",
       "      <td>1</td>\n",
       "      <td>...</td>\n",
       "      <td>0</td>\n",
       "      <td>1</td>\n",
       "      <td>8855</td>\n",
       "      <td>1</td>\n",
       "      <td>0</td>\n",
       "      <td>1</td>\n",
       "      <td>2</td>\n",
       "      <td>50</td>\n",
       "      <td>213</td>\n",
       "      <td>26</td>\n",
       "    </tr>\n",
       "    <tr>\n",
       "      <td>37670289</td>\n",
       "      <td>2014-09-08 14:52:52</td>\n",
       "      <td>2</td>\n",
       "      <td>3</td>\n",
       "      <td>66</td>\n",
       "      <td>174</td>\n",
       "      <td>26232</td>\n",
       "      <td>679.6104</td>\n",
       "      <td>1198182</td>\n",
       "      <td>0</td>\n",
       "      <td>0</td>\n",
       "      <td>...</td>\n",
       "      <td>0</td>\n",
       "      <td>1</td>\n",
       "      <td>8281</td>\n",
       "      <td>1</td>\n",
       "      <td>0</td>\n",
       "      <td>1</td>\n",
       "      <td>2</td>\n",
       "      <td>50</td>\n",
       "      <td>663</td>\n",
       "      <td>9</td>\n",
       "    </tr>\n",
       "    <tr>\n",
       "      <td>37670290</td>\n",
       "      <td>2014-09-15 06:56:51</td>\n",
       "      <td>2</td>\n",
       "      <td>3</td>\n",
       "      <td>66</td>\n",
       "      <td>174</td>\n",
       "      <td>26232</td>\n",
       "      <td>668.1768</td>\n",
       "      <td>1198182</td>\n",
       "      <td>0</td>\n",
       "      <td>0</td>\n",
       "      <td>...</td>\n",
       "      <td>0</td>\n",
       "      <td>1</td>\n",
       "      <td>5620</td>\n",
       "      <td>3</td>\n",
       "      <td>0</td>\n",
       "      <td>1</td>\n",
       "      <td>2</td>\n",
       "      <td>50</td>\n",
       "      <td>663</td>\n",
       "      <td>94</td>\n",
       "    </tr>\n",
       "    <tr>\n",
       "      <td>37670291</td>\n",
       "      <td>2014-09-18 08:49:33</td>\n",
       "      <td>2</td>\n",
       "      <td>3</td>\n",
       "      <td>66</td>\n",
       "      <td>462</td>\n",
       "      <td>12565</td>\n",
       "      <td>106.4274</td>\n",
       "      <td>1198182</td>\n",
       "      <td>0</td>\n",
       "      <td>0</td>\n",
       "      <td>...</td>\n",
       "      <td>0</td>\n",
       "      <td>1</td>\n",
       "      <td>18811</td>\n",
       "      <td>1</td>\n",
       "      <td>0</td>\n",
       "      <td>1</td>\n",
       "      <td>2</td>\n",
       "      <td>50</td>\n",
       "      <td>592</td>\n",
       "      <td>42</td>\n",
       "    </tr>\n",
       "    <tr>\n",
       "      <td>37670292</td>\n",
       "      <td>2014-09-18 08:52:42</td>\n",
       "      <td>2</td>\n",
       "      <td>3</td>\n",
       "      <td>66</td>\n",
       "      <td>462</td>\n",
       "      <td>12565</td>\n",
       "      <td>106.4274</td>\n",
       "      <td>1198182</td>\n",
       "      <td>0</td>\n",
       "      <td>0</td>\n",
       "      <td>...</td>\n",
       "      <td>0</td>\n",
       "      <td>1</td>\n",
       "      <td>18811</td>\n",
       "      <td>1</td>\n",
       "      <td>1</td>\n",
       "      <td>1</td>\n",
       "      <td>2</td>\n",
       "      <td>50</td>\n",
       "      <td>592</td>\n",
       "      <td>42</td>\n",
       "    </tr>\n",
       "  </tbody>\n",
       "</table>\n",
       "<p>5 rows × 24 columns</p>\n",
       "</div>"
      ],
      "text/plain": [
       "                    date_time  site_name  posa_continent  \\\n",
       "37670288  2014-09-02 08:08:28          2               3   \n",
       "37670289  2014-09-08 14:52:52          2               3   \n",
       "37670290  2014-09-15 06:56:51          2               3   \n",
       "37670291  2014-09-18 08:49:33          2               3   \n",
       "37670292  2014-09-18 08:52:42          2               3   \n",
       "\n",
       "          user_location_country  user_location_region  user_location_city  \\\n",
       "37670288                     66                   174               26232   \n",
       "37670289                     66                   174               26232   \n",
       "37670290                     66                   174               26232   \n",
       "37670291                     66                   462               12565   \n",
       "37670292                     66                   462               12565   \n",
       "\n",
       "          orig_destination_distance  user_id  is_mobile  is_package  ...  \\\n",
       "37670288                  2348.4075  1198182          0           1  ...   \n",
       "37670289                   679.6104  1198182          0           0  ...   \n",
       "37670290                   668.1768  1198182          0           0  ...   \n",
       "37670291                   106.4274  1198182          0           0  ...   \n",
       "37670292                   106.4274  1198182          0           0  ...   \n",
       "\n",
       "          srch_children_cnt srch_rm_cnt srch_destination_id  \\\n",
       "37670288                  0           1                8855   \n",
       "37670289                  0           1                8281   \n",
       "37670290                  0           1                5620   \n",
       "37670291                  0           1               18811   \n",
       "37670292                  0           1               18811   \n",
       "\n",
       "          srch_destination_type_id  is_booking  cnt  hotel_continent  \\\n",
       "37670288                         1           0    1                2   \n",
       "37670289                         1           0    1                2   \n",
       "37670290                         3           0    1                2   \n",
       "37670291                         1           0    1                2   \n",
       "37670292                         1           1    1                2   \n",
       "\n",
       "          hotel_country  hotel_market  hotel_cluster  \n",
       "37670288             50           213             26  \n",
       "37670289             50           663              9  \n",
       "37670290             50           663             94  \n",
       "37670291             50           592             42  \n",
       "37670292             50           592             42  \n",
       "\n",
       "[5 rows x 24 columns]"
      ]
     },
     "execution_count": 4,
     "metadata": {},
     "output_type": "execute_result"
    }
   ],
   "source": [
    "# # Data 살펴보기\n",
    "\n",
    "# print('train.shape :', train.shape)\n",
    "# print('test.shape :', test.shape)\n",
    "# print('destinations.shape', destinations.shape)\n",
    "\n",
    "# # check destinationmissing values\n",
    "# print(destinations.tail())\n",
    "train.tail()\n",
    "# print(train.info())\n",
    "# print(test.tail())\n",
    "# print(test.info())\n",
    "# train.describe()\n",
    "# test.describe()\n",
    "# print(len(train.columns), train.columns)\n",
    "# print(len(test.columns), test.columns)"
   ]
  },
  {
   "cell_type": "markdown",
   "metadata": {},
   "source": [
    "- destination.csv\n",
    "    - row index와 srch_destination_id가 차이나는 것으로 보아, missing된 id가 존재하는 것으로 판단 (대략 5% 미만) -> 어떻게 처리할지? : 비율이 적어 삭제해도 무방할 듯\n",
    "- train.csv\n",
    "    - 대부분 integer, float variable\n",
    "    - date time는 년,월,일,시 등으로 format 변경 필요\n",
    "    - user_loaction_country, user_location_city value의 정확한 의미 알 수 없어 사용이 어려워 보임 (keep)\n",
    "    - orig_destination_distance Nan 어떻게 처리할지? --> data description에 의하면 Nan value는 계산이 불가능한 경우 :\n",
    "        - A null means the distance could not be calculated\n",
    "\n",
    "- train set 너무 많음(3700만 개) --> 이대로 계속 분석 가능한지?(메모리 이슈) : sampling"
   ]
  },
  {
   "cell_type": "markdown",
   "metadata": {},
   "source": [
    "### 1-2. Check missing values in train data "
   ]
  },
  {
   "cell_type": "code",
   "execution_count": 26,
   "metadata": {},
   "outputs": [
    {
     "name": "stdout",
     "output_type": "stream",
     "text": [
      "<class 'pandas.core.frame.DataFrame'>\n",
      "RangeIndex: 37670293 entries, 0 to 37670292\n",
      "Data columns (total 24 columns):\n",
      "date_time                    object\n",
      "site_name                    int64\n",
      "posa_continent               int64\n",
      "user_location_country        int64\n",
      "user_location_region         int64\n",
      "user_location_city           int64\n",
      "orig_destination_distance    float64\n",
      "user_id                      int64\n",
      "is_mobile                    int64\n",
      "is_package                   int64\n",
      "channel                      int64\n",
      "srch_ci                      object\n",
      "srch_co                      object\n",
      "srch_adults_cnt              int64\n",
      "srch_children_cnt            int64\n",
      "srch_rm_cnt                  int64\n",
      "srch_destination_id          int64\n",
      "srch_destination_type_id     int64\n",
      "is_booking                   int64\n",
      "cnt                          int64\n",
      "hotel_continent              int64\n",
      "hotel_country                int64\n",
      "hotel_market                 int64\n",
      "hotel_cluster                int64\n",
      "dtypes: float64(1), int64(20), object(3)\n",
      "memory usage: 6.7+ GB\n"
     ]
    },
    {
     "ename": "TypeError",
     "evalue": "'NoneType' object is not subscriptable",
     "output_type": "error",
     "traceback": [
      "\u001b[0;31m---------------------------------------------------------------------------\u001b[0m",
      "\u001b[0;31mTypeError\u001b[0m                                 Traceback (most recent call last)",
      "\u001b[0;32m<ipython-input-26-e165985cd45e>\u001b[0m in \u001b[0;36m<module>\u001b[0;34m\u001b[0m\n\u001b[0;32m----> 1\u001b[0;31m \u001b[0mtrain\u001b[0m\u001b[0;34m.\u001b[0m\u001b[0minfo\u001b[0m\u001b[0;34m(\u001b[0m\u001b[0;34m)\u001b[0m\u001b[0;34m[\u001b[0m\u001b[0;36m1\u001b[0m\u001b[0;34m]\u001b[0m\u001b[0;34m\u001b[0m\u001b[0;34m\u001b[0m\u001b[0m\n\u001b[0m",
      "\u001b[0;31mTypeError\u001b[0m: 'NoneType' object is not subscriptable"
     ]
    }
   ],
   "source": [
    "train.info()"
   ]
  },
  {
   "cell_type": "code",
   "execution_count": 30,
   "metadata": {},
   "outputs": [],
   "source": [
    "# 각 컬럼 별 빠진 값 확인\n",
    "def check_missing_value(df):\n",
    "    np_df = np.array(df)\n",
    "    columns = df.columns\n",
    "    for col in columns:\n",
    "        if 'int' in col or 'float' in col:\n",
    "            unique_count = int(np_df[:, col].nunique())\n",
    "            max_number = max(np_df[:, col])\n",
    "            min_number = min(np_df[:, col])\n",
    "            print('[', col, '] max :', max_number, 'min :', min_number, \n",
    "                  'diff : ', max_number-min_number, 'unique :', unique_count)\n",
    "\n",
    "check_missing_value(train)"
   ]
  },
  {
   "cell_type": "code",
   "execution_count": null,
   "metadata": {},
   "outputs": [],
   "source": []
  },
  {
   "cell_type": "code",
   "execution_count": null,
   "metadata": {},
   "outputs": [],
   "source": []
  },
  {
   "cell_type": "markdown",
   "metadata": {},
   "source": [
    "### 1-3. Check Nan values in data "
   ]
  },
  {
   "cell_type": "code",
   "execution_count": 4,
   "metadata": {},
   "outputs": [],
   "source": [
    "def check_nan(df):\n",
    "    for col in df.columns:\n",
    "        msg = '{:>10}\\t\\t\\t Percent of NaN value: {:.2f}%'.format(col, 100 * (df[col].isnull().sum() / df[col].shape[0]))\n",
    "        print(msg)"
   ]
  },
  {
   "cell_type": "code",
   "execution_count": 5,
   "metadata": {},
   "outputs": [],
   "source": [
    "# missing value 확인\n",
    "\n",
    "# print(check_nan(train))\n",
    "# print(check_nan(test))"
   ]
  },
  {
   "cell_type": "markdown",
   "metadata": {},
   "source": [
    "- Train.csv column\n",
    "    - ID 없음\n",
    "- test.csv column\n",
    "    - missing value 없음\n",
    "    - is_booking, cnt, hotel_cluster(label) column 없음"
   ]
  },
  {
   "cell_type": "code",
   "execution_count": 6,
   "metadata": {
    "scrolled": true
   },
   "outputs": [],
   "source": [
    "def check_nan_col(df, col_list):\n",
    "    for cl in col_list:\n",
    "        Nan_idx = list(df.loc[df[cl].isnull()][cl].index)\n",
    "        print('Nan of', cl, ': ', len(Nan_idx))"
   ]
  },
  {
   "cell_type": "code",
   "execution_count": 7,
   "metadata": {},
   "outputs": [
    {
     "name": "stdout",
     "output_type": "stream",
     "text": [
      "Nan of srch_ci :  47083\n",
      "Nan of srch_co :  47084\n",
      "None\n"
     ]
    }
   ],
   "source": [
    "# train에만 결측치 있음\n",
    "print(check_nan_col(train, ['srch_ci', 'srch_co']))"
   ]
  },
  {
   "cell_type": "markdown",
   "metadata": {},
   "source": [
    "- Checkin data와 Checkout data의 누락이 대부분 겹치치만, 각각 누락된 것도 있음\n",
    "- data description에 의하면 알 수 없는 컬럼이며, 전체 데이터 비율에 비해 매우 작은 비율을 차지하므로 삭제"
   ]
  },
  {
   "cell_type": "code",
   "execution_count": 8,
   "metadata": {
    "scrolled": true
   },
   "outputs": [],
   "source": [
    "# delete srch_ci, srch_co nan row \n",
    "def delete_nan_col(df, col_list):\n",
    "    df.dropna(subset=col_list, axis=0, inplace=True)"
   ]
  },
  {
   "cell_type": "code",
   "execution_count": 9,
   "metadata": {},
   "outputs": [
    {
     "name": "stdout",
     "output_type": "stream",
     "text": [
      "Nan of srch_ci :  0\n",
      "Nan of srch_co :  0\n",
      "None\n"
     ]
    }
   ],
   "source": [
    "delete_nan_col(train, ['srch_ci', 'srch_co'])\n",
    "print(check_nan_col(train, ['srch_ci', 'srch_co']))"
   ]
  },
  {
   "cell_type": "markdown",
   "metadata": {},
   "source": [
    "- Train set의 srch_ci, srch_co 결측치 삭제 완료"
   ]
  },
  {
   "cell_type": "code",
   "execution_count": 10,
   "metadata": {},
   "outputs": [],
   "source": [
    "# missing value 비율 확인\n",
    "\n",
    "# msno.bar(df=train.iloc[:, :], figsize=(8, 8), color=(0.8, 0.5, 0.2))\n",
    "# msno.matrix(df=train.iloc[:, :], figsize=(8, 8), color=(0.8, 0.5, 0.2))\n",
    "# msno.bar(df=test.iloc[:, :], figsize=(8, 8), color=(0.8, 0.5, 0.2))\n",
    "# msno.matrix(df=test.iloc[:, :], figsize=(8, 8), color=(0.8, 0.5, 0.2))"
   ]
  },
  {
   "cell_type": "markdown",
   "metadata": {},
   "source": [
    "### 1-3. Delete checkin/checkout error rows"
   ]
  },
  {
   "cell_type": "code",
   "execution_count": 11,
   "metadata": {},
   "outputs": [],
   "source": [
    "io_error_idx = train[train['srch_ci'] > train['srch_co']].index\n",
    "train.drop(index=io_error_idx, inplace=True)"
   ]
  },
  {
   "cell_type": "markdown",
   "metadata": {},
   "source": [
    "### 1-4. Check label data distribution"
   ]
  },
  {
   "cell_type": "code",
   "execution_count": 12,
   "metadata": {},
   "outputs": [
    {
     "name": "stdout",
     "output_type": "stream",
     "text": [
      "min: 48275 max: 1042545\n"
     ]
    },
    {
     "data": {
      "image/png": "[encoded data removed]",
      "text/plain": [
       "<Figure size 432x288 with 1 Axes>"
      ]
     },
     "metadata": {
      "needs_background": "light"
     },
     "output_type": "display_data"
    }
   ],
   "source": [
    "train['hotel_cluster'].value_counts()\n",
    "sns.distplot(train['hotel_cluster'])\n",
    "print('min:',min(train['hotel_cluster'].value_counts()), 'max:',max(train['hotel_cluster'].value_counts()))"
   ]
  },
  {
   "cell_type": "markdown",
   "metadata": {},
   "source": [
    "### 1-5. Convert Dates to Year & Month for original Train/Test set"
   ]
  },
  {
   "cell_type": "code",
   "execution_count": 13,
   "metadata": {},
   "outputs": [],
   "source": [
    "train['date_time'] = pd.to_datetime(train['date_time'])\n",
    "train['year'] = train['date_time'].dt.year\n",
    "train['month'] = train['date_time'].dt.month\n",
    "train['day'] = train['date_time'].dt.day\n",
    "# print(train.head())"
   ]
  },
  {
   "cell_type": "code",
   "execution_count": 14,
   "metadata": {},
   "outputs": [],
   "source": [
    "test['date_time'] = pd.to_datetime(test['date_time'])\n",
    "test['year'] = test['date_time'].dt.year\n",
    "test['month'] = test['date_time'].dt.month\n",
    "test['day'] = test['date_time'].dt.day\n",
    "# print(test.head())"
   ]
  },
  {
   "cell_type": "markdown",
   "metadata": {},
   "source": [
    "### 1-6. Remove not booking user data"
   ]
  },
  {
   "cell_type": "code",
   "execution_count": 15,
   "metadata": {
    "scrolled": true
   },
   "outputs": [],
   "source": [
    "# userid_isbooking_group = train.groupby(['user_id'])['is_booking'].value_counts()\n",
    "isbooking_user_group = train.groupby(['is_booking'])['user_id'].value_counts()\n",
    "\n",
    "booking_user_list = train[train.is_booking == 1].user_id.tolist() # user_id idx list that book at least once\n",
    "# print(real_user_list)"
   ]
  },
  {
   "cell_type": "code",
   "execution_count": 16,
   "metadata": {
    "scrolled": true
   },
   "outputs": [],
   "source": [
    "train_booking = train.loc[booking_user_list, :]\n",
    "# train.info()"
   ]
  },
  {
   "cell_type": "markdown",
   "metadata": {},
   "source": [
    "### 1-6. Downsizing dataset (by User random sampling) not for train_booking"
   ]
  },
  {
   "cell_type": "code",
   "execution_count": 17,
   "metadata": {},
   "outputs": [],
   "source": [
    "# 전체 데이터 활용하는 경우, user random sampling을 위한 유저 수 구하기\n",
    "\n",
    "# train_userid_group = train.groupby(['user_id'])['hotel_cluster'].value_counts()\n",
    "\n",
    "# print('[train] unique user count :',train['user_id'].nunique())\n",
    "# print('[test] unique user count :',test['user_id'].nunique())"
   ]
  },
  {
   "cell_type": "markdown",
   "metadata": {},
   "source": [
    "- 1,198,786 user -> 100,000 user random sampling (Considering computation resource)"
   ]
  },
  {
   "cell_type": "code",
   "execution_count": 18,
   "metadata": {},
   "outputs": [],
   "source": [
    "# sampling_size = 100000"
   ]
  },
  {
   "cell_type": "code",
   "execution_count": 19,
   "metadata": {},
   "outputs": [],
   "source": [
    "# 유저 랜덤샘플링\n",
    "\n",
    "# def random_sampling(df, key_col, sampling_size, origin_file, chunk_size):\n",
    "#     unique_set = set(df[key_col].unique())\n",
    "#     sampling_set = random.sample(unique_set, sampling_size)\n",
    "\n",
    "#     df_sampling = pd.DataFrame()\n",
    "#     df_chunking = pd.read_csv(origin_file, chunksize = chunk_size) \n",
    "\n",
    "#     for c in df_chunking:\n",
    "#         df_sampling = df_sampling.append(c.loc[c[key_col].isin(sampling_set)])\n",
    "        \n",
    "#     return df_sampling"
   ]
  },
  {
   "cell_type": "code",
   "execution_count": 20,
   "metadata": {},
   "outputs": [],
   "source": [
    "# train_sampling = random_sampling(df=train, key_col='user_id', sampling_size=sampling_size, origin_file='train.csv', chunk_size=100000)\n",
    "# print('sampling unique user count :',train_sampling['user_id'].nunique())    "
   ]
  },
  {
   "cell_type": "code",
   "execution_count": 21,
   "metadata": {},
   "outputs": [],
   "source": [
    "# train_origin = pd.DataFrame.copy(train)"
   ]
  },
  {
   "cell_type": "code",
   "execution_count": 22,
   "metadata": {},
   "outputs": [],
   "source": [
    "train_booking['date_time'] = pd.to_datetime(train_booking['date_time'])\n",
    "train_booking['year'] = train_booking['date_time'].dt.year\n",
    "train_booking['month'] = train_booking['date_time'].dt.month\n",
    "train_booking['day'] = train_booking['date_time'].dt.day\n",
    "# train_sampling.head()"
   ]
  },
  {
   "cell_type": "code",
   "execution_count": 23,
   "metadata": {},
   "outputs": [],
   "source": [
    "# train_origin['date_time'] = pd.to_datetime(train_origin['date_time'])\n",
    "# train_origin['year'] = train_origin['date_time'].dt.year\n",
    "# train_origin['month'] = train_origin['date_time'].dt.month\n",
    "# train_origin['day'] = train_origin['date_time'].dt.day\n",
    "# # train_origin.head()"
   ]
  },
  {
   "cell_type": "code",
   "execution_count": 24,
   "metadata": {},
   "outputs": [],
   "source": [
    "# train_sampling['date_time'] = pd.to_datetime(train_sampling['date_time'])\n",
    "# train_sampling['year'] = train_sampling['date_time'].dt.year\n",
    "# train_sampling['month'] = train_sampling['date_time'].dt.month\n",
    "# train_sampling['day'] = train_sampling['date_time'].dt.day"
   ]
  },
  {
   "cell_type": "code",
   "execution_count": 25,
   "metadata": {},
   "outputs": [],
   "source": [
    "# delete srch_ci, srch_co nan row in train_sampling\n",
    "# train_sampling.dropna(subset=['srch_ci', 'srch_co'], axis=0, inplace=True)"
   ]
  },
  {
   "cell_type": "code",
   "execution_count": 26,
   "metadata": {},
   "outputs": [],
   "source": [
    "# train_origin.dropna(subset=['srch_ci', 'srch_co'], axis=0, inplace=True)"
   ]
  },
  {
   "cell_type": "code",
   "execution_count": 27,
   "metadata": {},
   "outputs": [],
   "source": [
    "train_booking.dropna(subset=['srch_ci', 'srch_co'], axis=0, inplace=True)"
   ]
  },
  {
   "cell_type": "code",
   "execution_count": 28,
   "metadata": {},
   "outputs": [],
   "source": [
    "# orig_destination_distance \n",
    "# print(train_sampling['orig_destination_distance'].median(skipna=True))\n",
    "# print(train_sampling['orig_destination_distance'].mean(skipna=True))\n",
    "# train_sampling['orig_destination_distance'].describe()\n",
    "# train_sampling.groupby(['user_id'])['orig_destination_distance'].describe()"
   ]
  },
  {
   "cell_type": "code",
   "execution_count": 29,
   "metadata": {},
   "outputs": [],
   "source": [
    "# hotel_distance = train_sampling.groupby(['hotel_cluster'])['orig_destination_distance'].describe()\n",
    "# print(hotel_distance)"
   ]
  },
  {
   "cell_type": "markdown",
   "metadata": {},
   "source": [
    "- orig_destination_distance\n",
    "    - 거리개념이라 음수또는 0으로 처리하기엔 좋지 않음\n",
    "    - 전체 mean, median을 일괄적용하기에는 Nan 비율이 너무 높음\n",
    "    - 각 유저별 mean 또는 median을 고려하기엔 user_id별 로그가 전혀없는 것들이 있음\n",
    "    - Hotel_cluster별 mean을 적용해보자"
   ]
  },
  {
   "cell_type": "code",
   "execution_count": 30,
   "metadata": {},
   "outputs": [],
   "source": [
    "# train_booking.info()"
   ]
  },
  {
   "cell_type": "code",
   "execution_count": 31,
   "metadata": {},
   "outputs": [],
   "source": [
    "def fill_distance_by_cluster(df): # can use this func if the df has the 'hotel_cluster' column\n",
    "    hotel_distance = df.groupby(['hotel_cluster'])['orig_destination_distance'].describe()\n",
    "    cluster_avg_distance = pd.DataFrame(hotel_distance['mean'].tolist(), columns=['avg_distance'])\n",
    "    cluster_avg_distance['hotel_cluster'] = pd.DataFrame(cluster_avg_distance.index.tolist())\n",
    "\n",
    "    df = pd.merge(df, cluster_avg_distance, how='inner', on='hotel_cluster', left_index=True)\n",
    "    df.orig_destination_distance.fillna(df['avg_distance'], inplace=True)\n",
    "    df = df.drop(\"avg_distance\", axis=1)\n",
    "    \n",
    "    return df"
   ]
  },
  {
   "cell_type": "code",
   "execution_count": 32,
   "metadata": {},
   "outputs": [],
   "source": [
    "# train_sampling = fill_distance_by_cluster(train_sampling)"
   ]
  },
  {
   "cell_type": "code",
   "execution_count": 33,
   "metadata": {},
   "outputs": [],
   "source": [
    "# train_origin = fill_distance_by_cluster(train_origin)"
   ]
  },
  {
   "cell_type": "code",
   "execution_count": 34,
   "metadata": {},
   "outputs": [],
   "source": [
    "train_booking = fill_distance_by_cluster(train_booking)"
   ]
  },
  {
   "cell_type": "code",
   "execution_count": 35,
   "metadata": {
    "scrolled": true
   },
   "outputs": [],
   "source": [
    "# train_sampling.info()"
   ]
  },
  {
   "cell_type": "code",
   "execution_count": 36,
   "metadata": {},
   "outputs": [],
   "source": [
    "# train_sampling.groupby(['year'])['month'].value_counts()\n",
    "# train_sampling.groupby(['user_id'])['hotel_cluster'].value_counts()\n",
    "# train_sampling.groupby(['hotel_cluster'])['user_id'].value_counts()\n",
    "# print(min(train_sampling.groupby(['user_id'])['hotel_cluster'].value_counts()))\n",
    "# print(max(train_sampling.groupby(['user_id'])['hotel_cluster'].value_counts()))\n",
    "# train_sampling.groupby(['srch_destination_id'])['hotel_cluster'].value_counts()"
   ]
  },
  {
   "cell_type": "code",
   "execution_count": 37,
   "metadata": {
    "scrolled": true
   },
   "outputs": [],
   "source": [
    "# print(min(train_sampling.groupby(['srch_destination_id'])['hotel_cluster'].value_counts()))\n",
    "# print(max(train_sampling.groupby(['srch_destination_id'])['hotel_cluster'].value_counts()))"
   ]
  },
  {
   "cell_type": "code",
   "execution_count": 38,
   "metadata": {},
   "outputs": [
    {
     "name": "stdout",
     "output_type": "stream",
     "text": [
      "1\n",
      "22040\n"
     ]
    }
   ],
   "source": [
    "print(min(train_booking.groupby(['srch_destination_id'])['hotel_cluster'].value_counts()))\n",
    "print(max(train_booking.groupby(['srch_destination_id'])['hotel_cluster'].value_counts()))"
   ]
  },
  {
   "cell_type": "code",
   "execution_count": 39,
   "metadata": {},
   "outputs": [
    {
     "name": "stdout",
     "output_type": "stream",
     "text": [
      " date_time\t\t\t Percent of NaN value: 0.00%\n",
      " site_name\t\t\t Percent of NaN value: 0.00%\n",
      "posa_continent\t\t\t Percent of NaN value: 0.00%\n",
      "user_location_country\t\t\t Percent of NaN value: 0.00%\n",
      "user_location_region\t\t\t Percent of NaN value: 0.00%\n",
      "user_location_city\t\t\t Percent of NaN value: 0.00%\n",
      "orig_destination_distance\t\t\t Percent of NaN value: 0.00%\n",
      "   user_id\t\t\t Percent of NaN value: 0.00%\n",
      " is_mobile\t\t\t Percent of NaN value: 0.00%\n",
      "is_package\t\t\t Percent of NaN value: 0.00%\n",
      "   channel\t\t\t Percent of NaN value: 0.00%\n",
      "   srch_ci\t\t\t Percent of NaN value: 0.00%\n",
      "   srch_co\t\t\t Percent of NaN value: 0.00%\n",
      "srch_adults_cnt\t\t\t Percent of NaN value: 0.00%\n",
      "srch_children_cnt\t\t\t Percent of NaN value: 0.00%\n",
      "srch_rm_cnt\t\t\t Percent of NaN value: 0.00%\n",
      "srch_destination_id\t\t\t Percent of NaN value: 0.00%\n",
      "srch_destination_type_id\t\t\t Percent of NaN value: 0.00%\n",
      "is_booking\t\t\t Percent of NaN value: 0.00%\n",
      "       cnt\t\t\t Percent of NaN value: 0.00%\n",
      "hotel_continent\t\t\t Percent of NaN value: 0.00%\n",
      "hotel_country\t\t\t Percent of NaN value: 0.00%\n",
      "hotel_market\t\t\t Percent of NaN value: 0.00%\n",
      "hotel_cluster\t\t\t Percent of NaN value: 0.00%\n",
      "      year\t\t\t Percent of NaN value: 0.00%\n",
      "     month\t\t\t Percent of NaN value: 0.00%\n",
      "       day\t\t\t Percent of NaN value: 0.00%\n"
     ]
    }
   ],
   "source": [
    "check_nan(train_booking)"
   ]
  },
  {
   "cell_type": "code",
   "execution_count": 40,
   "metadata": {},
   "outputs": [],
   "source": [
    "# check_nan(train_origin)"
   ]
  },
  {
   "cell_type": "markdown",
   "metadata": {},
   "source": [
    "### 1-6. Feature correlation analysis"
   ]
  },
  {
   "cell_type": "code",
   "execution_count": 41,
   "metadata": {},
   "outputs": [],
   "source": [
    "# train.corr()[train.corr() > 0.5] # run just once "
   ]
  },
  {
   "cell_type": "code",
   "execution_count": 42,
   "metadata": {},
   "outputs": [],
   "source": [
    "# train.corr()['hotel_cluster']"
   ]
  },
  {
   "cell_type": "code",
   "execution_count": 43,
   "metadata": {},
   "outputs": [],
   "source": [
    "# most missing feature : orig_destination_distance \n",
    "# Physical distance between a hotel and a customer at the time of search. \n",
    "# A null means the distance could not be calculated\n",
    "# train.corr()['orig_destination_distance']"
   ]
  },
  {
   "cell_type": "code",
   "execution_count": 44,
   "metadata": {},
   "outputs": [],
   "source": [
    "# train.corr()['srch_destination_id']"
   ]
  },
  {
   "cell_type": "markdown",
   "metadata": {},
   "source": [
    "- data description에 의해 직관적으로 중요해보이는 column에 대한 correlation 분석 실시\n",
    "- hotel_cluster와 선형 상관관계가 있는 feature는 없으므로, linear regression은 적합하지 않다고 판단\n",
    "- ML model을 돌리기 위한 추가 피처 고려 필요 (destination.csv)"
   ]
  },
  {
   "cell_type": "markdown",
   "metadata": {},
   "source": [
    "### 1-7. Additional feature generation with PCA"
   ]
  },
  {
   "cell_type": "code",
   "execution_count": 45,
   "metadata": {},
   "outputs": [],
   "source": [
    "# destinations.isnull().sum()\n",
    "# destinations.tail() "
   ]
  },
  {
   "cell_type": "markdown",
   "metadata": {},
   "source": [
    "- srch_destination_id에 결측치 있음"
   ]
  },
  {
   "cell_type": "code",
   "execution_count": 46,
   "metadata": {},
   "outputs": [
    {
     "name": "stdout",
     "output_type": "stream",
     "text": [
      "dim over 95% : 59\n"
     ]
    }
   ],
   "source": [
    "from sklearn.decomposition import PCA\n",
    "\n",
    "pca_full = PCA(n_components=149)\n",
    "destination_full_components = pca_full.fit_transform(destinations[[\"d{0}\".format(i + 1) for i in range(149)]])\n",
    "cumsum = np.cumsum(pca_full.explained_variance_ratio_)\n",
    "dim = np.argmax(cumsum >= 0.95) + 1\n",
    "print('dim over 95% :', dim)\n",
    "\n",
    "pca = PCA(n_components=dim)\n",
    "destination_compression = pca.fit_transform(destinations[[\"d{0}\".format(i + 1) for i in range(dim)]])\n",
    "destination_compression = pd.DataFrame(destination_compression)\n",
    "destination_compression[\"srch_destination_id\"] = destinations[\"srch_destination_id\"]\n",
    "# print('eigen_value :', pca.explained_variance_)\n",
    "# print('explained variance ratio :', pca.explained_variance_ratio_)"
   ]
  },
  {
   "cell_type": "markdown",
   "metadata": {},
   "source": [
    "- 누적된 분산의 비율이 95%가 되도록 차원 결정"
   ]
  },
  {
   "cell_type": "code",
   "execution_count": 47,
   "metadata": {
    "scrolled": false
   },
   "outputs": [],
   "source": [
    "# destination_compression.tail()\n",
    "# destination_compression.isnull().sum()"
   ]
  },
  {
   "cell_type": "markdown",
   "metadata": {},
   "source": [
    "### 1-8. Generate new feature"
   ]
  },
  {
   "cell_type": "markdown",
   "metadata": {},
   "source": [
    "- date_time 관련 time property에 대한 피처 추가\n",
    "- srch_in, srch_out 관련 date property에 대한 피처 추가\n",
    "- train_sampling feature와 destinations pca 결과 feature를 concat\n",
    "- train_sampling data set으로 학습"
   ]
  },
  {
   "cell_type": "code",
   "execution_count": 48,
   "metadata": {},
   "outputs": [],
   "source": [
    "def merge_features(df): \n",
    "    df[\"date_time\"] = pd.to_datetime(df[\"date_time\"])\n",
    "    df[\"srch_ci\"] = pd.to_datetime(df[\"srch_ci\"], format='%Y-%m-%d', errors=\"coerce\")\n",
    "    df[\"srch_co\"] = pd.to_datetime(df[\"srch_co\"], format='%Y-%m-%d', errors=\"coerce\")\n",
    "    \n",
    "    new_features = {}\n",
    "    \n",
    "    # Add time feature of date_time\n",
    "    kind_of_time = [\"quarter\", \"month\", \"dayofweek\", \"day\", \"hour\", \"minute\"]\n",
    "    for t in kind_of_time:\n",
    "        new_features[t] = getattr(df[\"date_time\"].dt, t)\n",
    "    \n",
    "    # Add date feature of srch_ci, srch_co & \n",
    "    kind_of_date = [\"month\", \"day\", \"dayofweek\", \"quarter\"]\n",
    "    for d in kind_of_date:\n",
    "        new_features[\"ci_{0}\".format(d)] = getattr(df[\"srch_ci\"].dt, d)\n",
    "        new_features[\"co_{0}\".format(d)] = getattr(df[\"srch_co\"].dt, d)\n",
    "    new_features[\"duration_of_stay\"] = (df[\"srch_co\"] - df[\"srch_ci\"]).astype('timedelta64[h]')\n",
    "    \n",
    "    # Add others feature\n",
    "    column_others = [p for p in df.columns if p not in [\"date_time\", \"srch_ci\", \"srch_co\"]]\n",
    "    for c in column_others:\n",
    "        new_features[c] = df[c]\n",
    "    \n",
    "    new_features_df = pd.DataFrame(new_features)\n",
    "    \n",
    "    # Concat destinations features\n",
    "    new_features_df = new_features_df.join(destination_compression, \n",
    "                                           on=\"srch_destination_id\", \n",
    "                                           how='left', \n",
    "                                           rsuffix=\"destination_compression\")\n",
    "    new_features_df = new_features_df.drop(\"srch_destination_iddestination_compression\", axis=1)\n",
    "\n",
    "    return new_features_df"
   ]
  },
  {
   "cell_type": "code",
   "execution_count": 49,
   "metadata": {},
   "outputs": [],
   "source": [
    "train_booking_addition = merge_features(train_booking)"
   ]
  },
  {
   "cell_type": "code",
   "execution_count": 50,
   "metadata": {},
   "outputs": [],
   "source": [
    "# train_sampling_addition = merge_features(train_sampling)\n",
    "# train_sampling_addition"
   ]
  },
  {
   "cell_type": "code",
   "execution_count": 51,
   "metadata": {},
   "outputs": [],
   "source": [
    "# train_origin_addition = merge_features(train_origin)\n",
    "# train_origin_addition"
   ]
  },
  {
   "cell_type": "code",
   "execution_count": 52,
   "metadata": {},
   "outputs": [],
   "source": [
    "# train_sampling_addition.tail()\n",
    "# train_sampling_addition.describe()"
   ]
  },
  {
   "cell_type": "code",
   "execution_count": 53,
   "metadata": {
    "scrolled": true
   },
   "outputs": [],
   "source": [
    "# check_nan(train_sampling_addition)"
   ]
  },
  {
   "cell_type": "code",
   "execution_count": 54,
   "metadata": {},
   "outputs": [
    {
     "name": "stdout",
     "output_type": "stream",
     "text": [
      "   quarter\t\t\t Percent of NaN value: 0.00%\n",
      "     month\t\t\t Percent of NaN value: 0.00%\n",
      " dayofweek\t\t\t Percent of NaN value: 0.00%\n",
      "       day\t\t\t Percent of NaN value: 0.00%\n",
      "      hour\t\t\t Percent of NaN value: 0.00%\n",
      "    minute\t\t\t Percent of NaN value: 0.00%\n",
      "  ci_month\t\t\t Percent of NaN value: 0.00%\n",
      "  co_month\t\t\t Percent of NaN value: 0.00%\n",
      "    ci_day\t\t\t Percent of NaN value: 0.00%\n",
      "    co_day\t\t\t Percent of NaN value: 0.00%\n",
      "ci_dayofweek\t\t\t Percent of NaN value: 0.00%\n",
      "co_dayofweek\t\t\t Percent of NaN value: 0.00%\n",
      "ci_quarter\t\t\t Percent of NaN value: 0.00%\n",
      "co_quarter\t\t\t Percent of NaN value: 0.00%\n",
      "duration_of_stay\t\t\t Percent of NaN value: 0.00%\n",
      " site_name\t\t\t Percent of NaN value: 0.00%\n",
      "posa_continent\t\t\t Percent of NaN value: 0.00%\n",
      "user_location_country\t\t\t Percent of NaN value: 0.00%\n",
      "user_location_region\t\t\t Percent of NaN value: 0.00%\n",
      "user_location_city\t\t\t Percent of NaN value: 0.00%\n",
      "orig_destination_distance\t\t\t Percent of NaN value: 0.00%\n",
      "   user_id\t\t\t Percent of NaN value: 0.00%\n",
      " is_mobile\t\t\t Percent of NaN value: 0.00%\n",
      "is_package\t\t\t Percent of NaN value: 0.00%\n",
      "   channel\t\t\t Percent of NaN value: 0.00%\n",
      "srch_adults_cnt\t\t\t Percent of NaN value: 0.00%\n",
      "srch_children_cnt\t\t\t Percent of NaN value: 0.00%\n",
      "srch_rm_cnt\t\t\t Percent of NaN value: 0.00%\n",
      "srch_destination_id\t\t\t Percent of NaN value: 0.00%\n",
      "srch_destination_type_id\t\t\t Percent of NaN value: 0.00%\n",
      "is_booking\t\t\t Percent of NaN value: 0.00%\n",
      "       cnt\t\t\t Percent of NaN value: 0.00%\n",
      "hotel_continent\t\t\t Percent of NaN value: 0.00%\n",
      "hotel_country\t\t\t Percent of NaN value: 0.00%\n",
      "hotel_market\t\t\t Percent of NaN value: 0.00%\n",
      "hotel_cluster\t\t\t Percent of NaN value: 0.00%\n",
      "      year\t\t\t Percent of NaN value: 0.00%\n",
      "         0\t\t\t Percent of NaN value: 0.19%\n",
      "         1\t\t\t Percent of NaN value: 0.19%\n",
      "         2\t\t\t Percent of NaN value: 0.19%\n",
      "         3\t\t\t Percent of NaN value: 0.19%\n",
      "         4\t\t\t Percent of NaN value: 0.19%\n",
      "         5\t\t\t Percent of NaN value: 0.19%\n",
      "         6\t\t\t Percent of NaN value: 0.19%\n",
      "         7\t\t\t Percent of NaN value: 0.19%\n",
      "         8\t\t\t Percent of NaN value: 0.19%\n",
      "         9\t\t\t Percent of NaN value: 0.19%\n",
      "        10\t\t\t Percent of NaN value: 0.19%\n",
      "        11\t\t\t Percent of NaN value: 0.19%\n",
      "        12\t\t\t Percent of NaN value: 0.19%\n",
      "        13\t\t\t Percent of NaN value: 0.19%\n",
      "        14\t\t\t Percent of NaN value: 0.19%\n",
      "        15\t\t\t Percent of NaN value: 0.19%\n",
      "        16\t\t\t Percent of NaN value: 0.19%\n",
      "        17\t\t\t Percent of NaN value: 0.19%\n",
      "        18\t\t\t Percent of NaN value: 0.19%\n",
      "        19\t\t\t Percent of NaN value: 0.19%\n",
      "        20\t\t\t Percent of NaN value: 0.19%\n",
      "        21\t\t\t Percent of NaN value: 0.19%\n",
      "        22\t\t\t Percent of NaN value: 0.19%\n",
      "        23\t\t\t Percent of NaN value: 0.19%\n",
      "        24\t\t\t Percent of NaN value: 0.19%\n",
      "        25\t\t\t Percent of NaN value: 0.19%\n",
      "        26\t\t\t Percent of NaN value: 0.19%\n",
      "        27\t\t\t Percent of NaN value: 0.19%\n",
      "        28\t\t\t Percent of NaN value: 0.19%\n",
      "        29\t\t\t Percent of NaN value: 0.19%\n",
      "        30\t\t\t Percent of NaN value: 0.19%\n",
      "        31\t\t\t Percent of NaN value: 0.19%\n",
      "        32\t\t\t Percent of NaN value: 0.19%\n",
      "        33\t\t\t Percent of NaN value: 0.19%\n",
      "        34\t\t\t Percent of NaN value: 0.19%\n",
      "        35\t\t\t Percent of NaN value: 0.19%\n",
      "        36\t\t\t Percent of NaN value: 0.19%\n",
      "        37\t\t\t Percent of NaN value: 0.19%\n",
      "        38\t\t\t Percent of NaN value: 0.19%\n",
      "        39\t\t\t Percent of NaN value: 0.19%\n",
      "        40\t\t\t Percent of NaN value: 0.19%\n",
      "        41\t\t\t Percent of NaN value: 0.19%\n",
      "        42\t\t\t Percent of NaN value: 0.19%\n",
      "        43\t\t\t Percent of NaN value: 0.19%\n",
      "        44\t\t\t Percent of NaN value: 0.19%\n",
      "        45\t\t\t Percent of NaN value: 0.19%\n",
      "        46\t\t\t Percent of NaN value: 0.19%\n",
      "        47\t\t\t Percent of NaN value: 0.19%\n",
      "        48\t\t\t Percent of NaN value: 0.19%\n",
      "        49\t\t\t Percent of NaN value: 0.19%\n",
      "        50\t\t\t Percent of NaN value: 0.19%\n",
      "        51\t\t\t Percent of NaN value: 0.19%\n",
      "        52\t\t\t Percent of NaN value: 0.19%\n",
      "        53\t\t\t Percent of NaN value: 0.19%\n",
      "        54\t\t\t Percent of NaN value: 0.19%\n",
      "        55\t\t\t Percent of NaN value: 0.19%\n",
      "        56\t\t\t Percent of NaN value: 0.19%\n",
      "        57\t\t\t Percent of NaN value: 0.19%\n",
      "        58\t\t\t Percent of NaN value: 0.19%\n"
     ]
    }
   ],
   "source": [
    "check_nan(train_booking_addition)"
   ]
  },
  {
   "cell_type": "markdown",
   "metadata": {},
   "source": [
    "- missing values : \n",
    "    - srch_destination_id & 0-58"
   ]
  },
  {
   "cell_type": "code",
   "execution_count": 55,
   "metadata": {},
   "outputs": [],
   "source": [
    "# check_nan(train_origin_addition)"
   ]
  },
  {
   "cell_type": "code",
   "execution_count": 56,
   "metadata": {},
   "outputs": [
    {
     "name": "stdout",
     "output_type": "stream",
     "text": [
      "<class 'pandas.core.frame.DataFrame'>\n",
      "Int64Index: 2997341 entries, 18 to 27\n",
      "Data columns (total 96 columns):\n",
      "quarter                      int64\n",
      "month                        float64\n",
      "dayofweek                    int64\n",
      "day                          float64\n",
      "hour                         int64\n",
      "minute                       int64\n",
      "ci_month                     int64\n",
      "co_month                     int64\n",
      "ci_day                       int64\n",
      "co_day                       int64\n",
      "ci_dayofweek                 int64\n",
      "co_dayofweek                 int64\n",
      "ci_quarter                   int64\n",
      "co_quarter                   int64\n",
      "duration_of_stay             float64\n",
      "site_name                    float64\n",
      "posa_continent               float64\n",
      "user_location_country        float64\n",
      "user_location_region         float64\n",
      "user_location_city           float64\n",
      "orig_destination_distance    float64\n",
      "user_id                      float64\n",
      "is_mobile                    float64\n",
      "is_package                   float64\n",
      "channel                      float64\n",
      "srch_adults_cnt              float64\n",
      "srch_children_cnt            float64\n",
      "srch_rm_cnt                  float64\n",
      "srch_destination_id          float64\n",
      "srch_destination_type_id     float64\n",
      "is_booking                   float64\n",
      "cnt                          float64\n",
      "hotel_continent              float64\n",
      "hotel_country                float64\n",
      "hotel_market                 float64\n",
      "hotel_cluster                float64\n",
      "year                         float64\n",
      "0                            float64\n",
      "1                            float64\n",
      "2                            float64\n",
      "3                            float64\n",
      "4                            float64\n",
      "5                            float64\n",
      "6                            float64\n",
      "7                            float64\n",
      "8                            float64\n",
      "9                            float64\n",
      "10                           float64\n",
      "11                           float64\n",
      "12                           float64\n",
      "13                           float64\n",
      "14                           float64\n",
      "15                           float64\n",
      "16                           float64\n",
      "17                           float64\n",
      "18                           float64\n",
      "19                           float64\n",
      "20                           float64\n",
      "21                           float64\n",
      "22                           float64\n",
      "23                           float64\n",
      "24                           float64\n",
      "25                           float64\n",
      "26                           float64\n",
      "27                           float64\n",
      "28                           float64\n",
      "29                           float64\n",
      "30                           float64\n",
      "31                           float64\n",
      "32                           float64\n",
      "33                           float64\n",
      "34                           float64\n",
      "35                           float64\n",
      "36                           float64\n",
      "37                           float64\n",
      "38                           float64\n",
      "39                           float64\n",
      "40                           float64\n",
      "41                           float64\n",
      "42                           float64\n",
      "43                           float64\n",
      "44                           float64\n",
      "45                           float64\n",
      "46                           float64\n",
      "47                           float64\n",
      "48                           float64\n",
      "49                           float64\n",
      "50                           float64\n",
      "51                           float64\n",
      "52                           float64\n",
      "53                           float64\n",
      "54                           float64\n",
      "55                           float64\n",
      "56                           float64\n",
      "57                           float64\n",
      "58                           float64\n",
      "dtypes: float64(84), int64(12)\n",
      "memory usage: 2.2 GB\n"
     ]
    }
   ],
   "source": [
    "train_booking_addition.info()"
   ]
  },
  {
   "cell_type": "markdown",
   "metadata": {},
   "source": [
    "### 1-9. srch_destination_id missing value 전략\n",
    "- missing value가 많다면 is_booking=1인 데이터에 대해서 matrix factorization 수행하는 방법이 있을듯\n",
    "- feature 간의 상관관계가 없고, 전체 dataset 중에서 missing value가 차지하는 비율이 매우 적음 (0.19%)\n",
    "- missing value를 처리하는 여러 방법 중, 제거(Drop)하는 방법을 선택"
   ]
  },
  {
   "cell_type": "code",
   "execution_count": 57,
   "metadata": {},
   "outputs": [],
   "source": [
    "train_booking_addition.dropna(inplace=True)"
   ]
  },
  {
   "cell_type": "code",
   "execution_count": 58,
   "metadata": {},
   "outputs": [],
   "source": [
    "# train_sampling_addition.dropna(inplace=True)"
   ]
  },
  {
   "cell_type": "code",
   "execution_count": 59,
   "metadata": {},
   "outputs": [],
   "source": [
    "# train_origin_addition.dropna(inplace=True)"
   ]
  },
  {
   "cell_type": "code",
   "execution_count": 60,
   "metadata": {
    "scrolled": true
   },
   "outputs": [
    {
     "name": "stdout",
     "output_type": "stream",
     "text": [
      "quarter 0\n",
      "month 0\n",
      "dayofweek 0\n",
      "day 0\n",
      "hour 0\n",
      "minute 0\n",
      "ci_month 0\n",
      "co_month 0\n",
      "ci_day 0\n",
      "co_day 0\n",
      "ci_dayofweek 0\n",
      "co_dayofweek 0\n",
      "ci_quarter 0\n",
      "co_quarter 0\n",
      "duration_of_stay 0\n",
      "site_name 0\n",
      "posa_continent 0\n",
      "user_location_country 0\n",
      "user_location_region 0\n",
      "user_location_city 0\n",
      "orig_destination_distance 0\n",
      "user_id 0\n",
      "is_mobile 0\n",
      "is_package 0\n",
      "channel 0\n",
      "srch_adults_cnt 0\n",
      "srch_children_cnt 0\n",
      "srch_rm_cnt 0\n",
      "srch_destination_id 0\n",
      "srch_destination_type_id 0\n",
      "is_booking 0\n",
      "cnt 0\n",
      "hotel_continent 0\n",
      "hotel_country 0\n",
      "hotel_market 0\n",
      "hotel_cluster 0\n",
      "year 0\n",
      "0 0\n",
      "1 0\n",
      "2 0\n",
      "3 0\n",
      "4 0\n",
      "5 0\n",
      "6 0\n",
      "7 0\n",
      "8 0\n",
      "9 0\n",
      "10 0\n",
      "11 0\n",
      "12 0\n",
      "13 0\n",
      "14 0\n",
      "15 0\n",
      "16 0\n",
      "17 0\n",
      "18 0\n",
      "19 0\n",
      "20 0\n",
      "21 0\n",
      "22 0\n",
      "23 0\n",
      "24 0\n",
      "25 0\n",
      "26 0\n",
      "27 0\n",
      "28 0\n",
      "29 0\n",
      "30 0\n",
      "31 0\n",
      "32 0\n",
      "33 0\n",
      "34 0\n",
      "35 0\n",
      "36 0\n",
      "37 0\n",
      "38 0\n",
      "39 0\n",
      "40 0\n",
      "41 0\n",
      "42 0\n",
      "43 0\n",
      "44 0\n",
      "45 0\n",
      "46 0\n",
      "47 0\n",
      "48 0\n",
      "49 0\n",
      "50 0\n",
      "51 0\n",
      "52 0\n",
      "53 0\n",
      "54 0\n",
      "55 0\n",
      "56 0\n",
      "57 0\n",
      "58 0\n"
     ]
    }
   ],
   "source": [
    "for col in train_booking_addition.columns:\n",
    "    print(col, train_booking_addition[col].isnull().sum())"
   ]
  },
  {
   "cell_type": "code",
   "execution_count": 61,
   "metadata": {},
   "outputs": [],
   "source": [
    "# for col in train_origin_addition.columns:\n",
    "#     print(col, train_origin_addition[col].isnull().sum())"
   ]
  },
  {
   "cell_type": "code",
   "execution_count": 62,
   "metadata": {},
   "outputs": [],
   "source": [
    "# train_sampling_addition.describe()"
   ]
  },
  {
   "cell_type": "code",
   "execution_count": 65,
   "metadata": {},
   "outputs": [
    {
     "name": "stdout",
     "output_type": "stream",
     "text": [
      "<class 'pandas.core.frame.DataFrame'>\n",
      "Int64Index: 2991747 entries, 18 to 27\n",
      "Data columns (total 96 columns):\n",
      "quarter                      float64\n",
      "month                        float64\n",
      "dayofweek                    float64\n",
      "day                          float64\n",
      "hour                         float64\n",
      "minute                       float64\n",
      "ci_month                     float64\n",
      "co_month                     float64\n",
      "ci_day                       float64\n",
      "co_day                       float64\n",
      "ci_dayofweek                 float64\n",
      "co_dayofweek                 float64\n",
      "ci_quarter                   float64\n",
      "co_quarter                   float64\n",
      "duration_of_stay             float64\n",
      "site_name                    float64\n",
      "posa_continent               float64\n",
      "user_location_country        float64\n",
      "user_location_region         float64\n",
      "user_location_city           float64\n",
      "orig_destination_distance    float64\n",
      "user_id                      float64\n",
      "is_mobile                    float64\n",
      "is_package                   float64\n",
      "channel                      float64\n",
      "srch_adults_cnt              float64\n",
      "srch_children_cnt            float64\n",
      "srch_rm_cnt                  float64\n",
      "srch_destination_id          float64\n",
      "srch_destination_type_id     float64\n",
      "is_booking                   float64\n",
      "cnt                          float64\n",
      "hotel_continent              float64\n",
      "hotel_country                float64\n",
      "hotel_market                 float64\n",
      "hotel_cluster                float64\n",
      "year                         float64\n",
      "0                            float64\n",
      "1                            float64\n",
      "2                            float64\n",
      "3                            float64\n",
      "4                            float64\n",
      "5                            float64\n",
      "6                            float64\n",
      "7                            float64\n",
      "8                            float64\n",
      "9                            float64\n",
      "10                           float64\n",
      "11                           float64\n",
      "12                           float64\n",
      "13                           float64\n",
      "14                           float64\n",
      "15                           float64\n",
      "16                           float64\n",
      "17                           float64\n",
      "18                           float64\n",
      "19                           float64\n",
      "20                           float64\n",
      "21                           float64\n",
      "22                           float64\n",
      "23                           float64\n",
      "24                           float64\n",
      "25                           float64\n",
      "26                           float64\n",
      "27                           float64\n",
      "28                           float64\n",
      "29                           float64\n",
      "30                           float64\n",
      "31                           float64\n",
      "32                           float64\n",
      "33                           float64\n",
      "34                           float64\n",
      "35                           float64\n",
      "36                           float64\n",
      "37                           float64\n",
      "38                           float64\n",
      "39                           float64\n",
      "40                           float64\n",
      "41                           float64\n",
      "42                           float64\n",
      "43                           float64\n",
      "44                           float64\n",
      "45                           float64\n",
      "46                           float64\n",
      "47                           float64\n",
      "48                           float64\n",
      "49                           float64\n",
      "50                           float64\n",
      "51                           float64\n",
      "52                           float64\n",
      "53                           float64\n",
      "54                           float64\n",
      "55                           float64\n",
      "56                           float64\n",
      "57                           float64\n",
      "58                           float64\n",
      "dtypes: float64(96)\n",
      "memory usage: 2.2 GB\n"
     ]
    }
   ],
   "source": [
    "train_booking_addition = train_booking_addition.astype(float)\n",
    "train_booking_addition.info()"
   ]
  },
  {
   "cell_type": "markdown",
   "metadata": {},
   "source": [
    "# 2. Hotel cluster classification"
   ]
  },
  {
   "cell_type": "code",
   "execution_count": 66,
   "metadata": {},
   "outputs": [],
   "source": [
    "from sklearn.ensemble import RandomForestClassifier\n",
    "from sklearn.ensemble import GradientBoostingClassifier\n",
    "from sklearn.ensemble import RandomForestClassifier\n",
    "from sklearn.linear_model import LogisticRegression\n",
    "from sklearn.naive_bayes import GaussianNB\n",
    "from sklearn.svm import SVC\n",
    "from sklearn.pipeline import make_pipeline\n",
    "from sklearn.preprocessing import StandardScaler\n",
    "from sklearn.utils import shuffle\n",
    "from sklearn.model_selection import cross_val_score\n",
    "\n",
    "import ml_metrics as metrics\n",
    "from sklearn.model_selection import train_test_split \n",
    "import pickle\n",
    "\n",
    "import tensorflow as tf\n",
    "from tensorflow import keras, optimizers"
   ]
  },
  {
   "cell_type": "markdown",
   "metadata": {},
   "source": [
    "## 2-0. Data preparation (recap)"
   ]
  },
  {
   "cell_type": "markdown",
   "metadata": {},
   "source": [
    "### Train / Test split by train_sampling (ratio 80:20)\n",
    "- month 기준으로 분할 (일 기준으로 나눌 수 있지만, 분석의 용이성을 높이고자)\n",
    "- 24 month data를 8:2로 나누면, 대략 19 : 5 "
   ]
  },
  {
   "cell_type": "code",
   "execution_count": 67,
   "metadata": {},
   "outputs": [],
   "source": [
    "train_booking_new = train_booking_addition[((train_booking_addition.year == 2013) | ((train_booking_addition.year == 2014) & (train_booking_addition.month <= 7)))]\n",
    "test_booking_new = train_booking_addition[((train_booking_addition.year == 2014) & (train_booking_addition.month >= 8))]\n",
    "test_booking_new = test_booking_new[test_booking_new.is_booking == 1]\n",
    "# test_booking_new"
   ]
  },
  {
   "cell_type": "code",
   "execution_count": 68,
   "metadata": {},
   "outputs": [],
   "source": [
    "# train_origin_new = train_origin_addition[((train_origin_addition.year == 2013) | ((train_origin_addition.year == 2014) & (train_origin_addition.month <= 7)))]\n",
    "# test_origin_new = train_origin_addition[((train_origin_addition.year == 2014) & (train_origin_addition.month >= 8))]\n",
    "# test_origin_new = test_origin_new[test_origin_new.is_booking == 1]"
   ]
  },
  {
   "cell_type": "code",
   "execution_count": 69,
   "metadata": {},
   "outputs": [],
   "source": [
    "# print(check_nan(train_new))\n",
    "# print(check_nan(test_new))"
   ]
  },
  {
   "cell_type": "code",
   "execution_count": 70,
   "metadata": {},
   "outputs": [],
   "source": [
    "def make_label(df, target):\n",
    "    x = df.drop(target, axis=1).values\n",
    "    y = df[target].values\n",
    "    \n",
    "    return x, y"
   ]
  },
  {
   "cell_type": "code",
   "execution_count": 71,
   "metadata": {},
   "outputs": [
    {
     "name": "stdout",
     "output_type": "stream",
     "text": [
      "(1877022, 95)\n",
      "(1877022,)\n",
      "(81356, 95)\n",
      "(81356,)\n"
     ]
    }
   ],
   "source": [
    "train_booking_x, train_booking_y = make_label(train_booking_new, 'hotel_cluster')\n",
    "print(train_booking_x.shape)\n",
    "print(train_booking_y.shape)\n",
    "\n",
    "valid_booking_x, valid_booking_y = make_label(test_booking_new, 'hotel_cluster')\n",
    "print(valid_booking_x.shape)\n",
    "print(valid_booking_y.shape)"
   ]
  },
  {
   "cell_type": "code",
   "execution_count": 72,
   "metadata": {},
   "outputs": [],
   "source": [
    "# train_x, train_y = make_label(train_new, 'hotel_cluster')\n",
    "# print(train_x.shape)\n",
    "# print(train_y.shape)\n",
    "\n",
    "# valid_x, valid_y = make_label(test_new, 'hotel_cluster')\n",
    "# print(valid_x.shape)\n",
    "# print(valid_y.shape)"
   ]
  },
  {
   "cell_type": "code",
   "execution_count": 73,
   "metadata": {},
   "outputs": [],
   "source": [
    "# train_origin_x, train_origin_y = make_label(train_origin_new, 'hotel_cluster')\n",
    "# print(train_origin_x.shape)\n",
    "# print(train_origin_y.shape)\n",
    "\n",
    "# valid_origin_x, valid_origin_y = make_label(test_origin_new, 'hotel_cluster')\n",
    "# print(valid_origin_x.shape)\n",
    "# print(valid_origin_y.shape)"
   ]
  },
  {
   "cell_type": "markdown",
   "metadata": {},
   "source": [
    "## 2-1. Simple prediction"
   ]
  },
  {
   "cell_type": "code",
   "execution_count": 74,
   "metadata": {},
   "outputs": [
    {
     "data": {
      "text/plain": [
       "0.07122564203418719"
      ]
     },
     "execution_count": 74,
     "metadata": {},
     "output_type": "execute_result"
    }
   ],
   "source": [
    "most_common_clusters = list(train_booking_new.hotel_cluster.value_counts().head().index)\n",
    "predictions = [most_common_clusters for i in range(test_booking_new.shape[0])]\n",
    "target = [[l] for l in test_booking_new[\"hotel_cluster\"]]\n",
    "metrics.mapk(target, predictions, k=5)"
   ]
  },
  {
   "cell_type": "markdown",
   "metadata": {},
   "source": [
    "## 2-2. Logistic regression"
   ]
  },
  {
   "cell_type": "code",
   "execution_count": null,
   "metadata": {},
   "outputs": [],
   "source": [
    "LR = LogisticRegression(multi_class='ovr', C=100)\n",
    "LR.fit(train_booking_x, train_booking_y)\n",
    "predictions = LR.predict(valid_booking_x)\n",
    "target = valid_booking_y\n",
    "\n",
    "metrics.mapk(target, predictions, k=5))"
   ]
  },
  {
   "cell_type": "markdown",
   "metadata": {},
   "source": [
    "## 2-3. Random forest classifier"
   ]
  },
  {
   "cell_type": "code",
   "execution_count": 76,
   "metadata": {},
   "outputs": [
    {
     "data": {
      "text/plain": [
       "0.0736555776415559"
      ]
     },
     "execution_count": 76,
     "metadata": {},
     "output_type": "execute_result"
    }
   ],
   "source": [
    "predictors = [c for c in train_booking_new.columns if c not in [\"hotel_cluster\"]]\n",
    "RFC1 = RandomForestClassifier(n_estimators=10, min_weight_fraction_leaf=0.1)\n",
    "\n",
    "scores = cross_val_score(RFC1, train_booking_new[predictors], train_booking_new['hotel_cluster'], cv=3)\n",
    "np.mean(scores)"
   ]
  },
  {
   "cell_type": "markdown",
   "metadata": {},
   "source": [
    "### RFC 결과를 통해 알게 된 점\n",
    "- 트레이닝 셋이 대해서는 학습이 잘 되었지만, 밸리데이션 셋에 대해서는 성능이 매우 저하된 것으로 보아 feature engineering을 충분히 잘하지 못했거나, overfitting이 되었다고 봄\n",
    "- 1) 샘플링 데이터로 먼저 시도하여 낮은 정확도를 얻음 -> sampling rate이 너무 낮은 문제일 수도 있다는 판단\n",
    "- 2) 전체 데이터 셋으로 학습 및 평가하였지만, 많은 성능 개선이 일어나지 않음\n",
    "- 3) Train set에서 클릭만한 유저를 drop하여 사용\n",
    "- feature importance를 뽑아보았을 때, orig_destination_distance, user_location등이 높은 importance를 보임 -> "
   ]
  },
  {
   "cell_type": "markdown",
   "metadata": {},
   "source": [
    "## 2-4. Support Vector Classification"
   ]
  },
  {
   "cell_type": "code",
   "execution_count": null,
   "metadata": {},
   "outputs": [],
   "source": [
    "rbf_svc = SVC(kernel='rbf')\n",
    "rbf_svc.fit(train_booking_x, train_booking_y)\n",
    "predictions = rbf_svc.predict(valid_booking_x)\n",
    "target = valid_booking_y\n",
    "\n",
    "metrics.mapk(target, predictions, k=5)"
   ]
  },
  {
   "cell_type": "markdown",
   "metadata": {},
   "source": [
    "## 2-5. XGboost"
   ]
  },
  {
   "cell_type": "code",
   "execution_count": null,
   "metadata": {},
   "outputs": [],
   "source": [
    "from xgboost import XGBClassifier"
   ]
  },
  {
   "cell_type": "code",
   "execution_count": null,
   "metadata": {},
   "outputs": [],
   "source": [
    "xg = XGBClassifier()\n",
    "xg.fit(train_booking_x, train_booking_y)\n",
    "predictions = xg.predict(valid_booking_x)\n",
    "target = valid_booking_y\n",
    "\n",
    "metrics.mapk(target, predictions, k=5)"
   ]
  },
  {
   "cell_type": "markdown",
   "metadata": {},
   "source": [
    "## 2-6. Neural Network (Simple MLP)"
   ]
  },
  {
   "cell_type": "code",
   "execution_count": 168,
   "metadata": {},
   "outputs": [
    {
     "name": "stdout",
     "output_type": "stream",
     "text": [
      "WARNING:tensorflow:Please add `keras.layers.InputLayer` instead of `keras.Input` to Sequential model. `keras.Input` is intended to be used by Functional model.\n"
     ]
    }
   ],
   "source": [
    "model = keras.Sequential([\n",
    "    tf.keras.layers.Input(shape=(95,)),\n",
    "    tf.keras.layers.Dense(256, activation='relu'),\n",
    "    tf.keras.layers.Dropout(0.6),\n",
    "    tf.keras.layers.Dense(512, activation='relu'),\n",
    "    tf.keras.layers.Dropout(0.6),\n",
    "    tf.keras.layers.Dense(256, activation='relu'),\n",
    "    tf.keras.layers.Dropout(0.6),\n",
    "    tf.keras.layers.Dense(100, activation='softmax') # hotel_cluster = 100\n",
    "])\n",
    "\n",
    "# sgd = optimizers.SGD(lr=0.01, decay=1e-6, momentum=0.9, nesterov=True)\n",
    "adam = keras.optimizers.Adam(lr=0.01, beta_1=0.9, beta_2=0.999, epsilon=None, decay=0.0, amsgrad=False)\n",
    "\n",
    "model.compile(optimizer=adam,\n",
    "              loss='sparse_categorical_crossentropy',\n",
    "              metrics=['accuracy', 'mse'])"
   ]
  },
  {
   "cell_type": "code",
   "execution_count": null,
   "metadata": {},
   "outputs": [],
   "source": [
    "from sklearn import preprocessing\n",
    "\n",
    "def normalize(df):\n",
    "    result = df.copy()\n",
    "    for feature_name in df.columns:\n",
    "        max_value = df[feature_name].max()\n",
    "        min_value = df[feature_name].min()\n",
    "        result[feature_name] = (df[feature_name] - min_value) / (max_value - min_value)\n",
    "    return result\n",
    "\n",
    "norm_train_booking_x = normalize(pd.DataFrame(train_booking_x)).astype(float)\n",
    "norm_valid_booking_x = normalize(pd.DataFrame(valid_booking_x)).astype(float)\n",
    "\n",
    "history = model.fit(x=norm_train_booking_x, y=train_booking_y, batch_size=512, epochs=100,\n",
    "                    verbose=1, validation_data=(norm_valid_booking_x, valid_booking_y))"
   ]
  },
  {
   "cell_type": "code",
   "execution_count": null,
   "metadata": {},
   "outputs": [],
   "source": [
    "# Creating dataset for making recommendations for the first user\n",
    "hotel_data = np.array(list(set(df.Item_id)))\n",
    "hotel_data[:5]\n",
    "user = np.array([1 for i in range(len(hotel_data))])\n",
    "user[:5]\n",
    "predictions = model.predict([user, hotel_data])\n",
    "predictions = np.array([a[0] for a in predictions])\n",
    "recommended_item_ids = (-predictions).argsort()[:5]\n",
    "recommended_item_ids\n",
    "# print predicted scores\n",
    "predictions[recommended_item_ids]"
   ]
  },
  {
   "cell_type": "code",
   "execution_count": null,
   "metadata": {},
   "outputs": [],
   "source": [
    "rows = []\n",
    "hotel = list(df.drop_duplicates(subset='Item_id', keep='first').Item_id)\n",
    "names = list(df.drop_duplicates(subset='Item_id', keep='first').Item_id)\n",
    "\n",
    "for i in range(len(hotel)):\n",
    "    rows.append( dict({'name': names[i], 'Item_id' : hotel[i], 'User_id' : 1048}))\n",
    "test_data = pd.DataFrame(rows)\n",
    "\n",
    "for idx, (score, name) in enumerate(sorted(zip(recommended_item_ids, names), reverse=True)):\n",
    "    print(\"Score: \", round(float(score), 2), \" for hotel cluster: \", name)"
   ]
  },
  {
   "cell_type": "markdown",
   "metadata": {},
   "source": [
    "## 2-7. Popularity-based recommendation\n",
    "- orig_destination_distance의 importance가 높다는 의미 : 호텔 선정에 거리가 중요 ->(filtering)-> 목적지별 인기있는 호텔이있을 것이다(가정)\n",
    "- srch_destination_id에 대해 인기있는 hotel_cluster를 추천하는 방식 (booking & view weighting)"
   ]
  },
  {
   "cell_type": "code",
   "execution_count": null,
   "metadata": {},
   "outputs": [],
   "source": [
    "def make_key(items):\n",
    "    return \"_\".join([str(i) for i in items])\n",
    "\n",
    "match_cols = [\"srch_destination_id\"]\n",
    "cluster_cols = match_cols + ['hotel_cluster']\n",
    "groups = t1.groupby(cluster_cols)\n",
    "top_clusters = {}\n",
    "for name, group in groups:\n",
    "    clicks = len(group.is_booking[group.is_booking == False])\n",
    "    bookings = len(group.is_booking[group.is_booking == True])\n",
    "\n",
    "    score = bookings + .15 * clicks\n",
    "\n",
    "    clus_name = make_key(name[:len(match_cols)])\n",
    "    if clus_name not in top_clusters:\n",
    "        top_clusters[clus_name] = {}\n",
    "    top_clusters[clus_name][name[-1]] = score"
   ]
  },
  {
   "cell_type": "code",
   "execution_count": null,
   "metadata": {},
   "outputs": [],
   "source": [
    "import operator\n",
    "\n",
    "cluster_dict = {}\n",
    "for n in top_clusters:\n",
    "    tc = top_clusters[n]\n",
    "    top = [l[0] for l in sorted(tc.items(), key=operator.itemgetter(1), reverse=True)[:5]]\n",
    "    cluster_dict[n] = top"
   ]
  },
  {
   "cell_type": "code",
   "execution_count": null,
   "metadata": {},
   "outputs": [],
   "source": [
    "preds = []\n",
    "for index, row in t2.iterrows():\n",
    "    key = make_key([row[m] for m in match_cols])\n",
    "    if key in cluster_dict:\n",
    "        preds.append(cluster_dict[key])\n",
    "    else:\n",
    "        preds.append([])"
   ]
  },
  {
   "cell_type": "code",
   "execution_count": null,
   "metadata": {},
   "outputs": [],
   "source": [
    "metrics.mapk([[l] for l in t2[\"hotel_cluster\"]], preds, k=5)"
   ]
  },
  {
   "cell_type": "markdown",
   "metadata": {},
   "source": [
    "## 2-8. Matching Users for Better Accuracy"
   ]
  },
  {
   "cell_type": "code",
   "execution_count": null,
   "metadata": {},
   "outputs": [],
   "source": [
    "match_cols = ['user_location_country', 'user_location_region', 'user_location_city', 'hotel_market', 'orig_destination_distance']\n",
    "\n",
    "groups = train_sub.groupby(match_cols)\n",
    "    \n",
    "def generate_exact_matches(row, match_cols):\n",
    "    index = tuple([row[t] for t in match_cols])\n",
    "    try:\n",
    "        group = groups.get_group(index)\n",
    "    except Exception:\n",
    "        return []\n",
    "    clus = list(set(group.hotel_cluster))\n",
    "    return clus\n",
    "\n",
    "exact_matches = []\n",
    "for i in range(test_sub.shape[0]):\n",
    "    exact_matches.append(generate_exact_matches(test_sub.iloc[i], match_cols))"
   ]
  },
  {
   "cell_type": "code",
   "execution_count": null,
   "metadata": {},
   "outputs": [],
   "source": [
    "def f5(seq, idfun=None): \n",
    "    if idfun is None:\n",
    "        def idfun(x): return x\n",
    "    seen = {}\n",
    "    result = []\n",
    "    for item in seq:\n",
    "        marker = idfun(item)\n",
    "        if marker in seen: continue\n",
    "        seen[marker] = 1\n",
    "        result.append(item)\n",
    "    return result\n",
    "    \n",
    "full_preds = [f5(exact_matches[p] + preds[p] + most_common_clusters)[:5] for p in range(len(preds))]\n",
    "metrics.mapk([[l] for l in test_sub[\"hotel_cluster\"]], full_preds, k=5)"
   ]
  }
 ],
 "metadata": {
  "kernelspec": {
   "display_name": "Python 3",
   "language": "python",
   "name": "python3"
  },
  "language_info": {
   "codemirror_mode": {
    "name": "ipython",
    "version": 3
   },
   "file_extension": ".py",
   "mimetype": "text/x-python",
   "name": "python",
   "nbconvert_exporter": "python",
   "pygments_lexer": "ipython3",
   "version": "3.7.4"
  }
 },
 "nbformat": 4,
 "nbformat_minor": 4
}
